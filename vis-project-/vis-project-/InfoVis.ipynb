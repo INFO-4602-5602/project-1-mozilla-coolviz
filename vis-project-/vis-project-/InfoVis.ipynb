{
 "cells": [
  {
   "cell_type": "code",
   "execution_count": 94,
   "metadata": {},
   "outputs": [],
   "source": [
    "import numpy as np\n",
    "import pandas as pd\n",
    "import seaborn as sb\n",
    "sb.set_style(\"whitegrid\")\n",
    "sb.set(style=\"ticks\")"
   ]
  },
  {
   "cell_type": "code",
   "execution_count": 95,
   "metadata": {},
   "outputs": [
    {
     "name": "stderr",
     "output_type": "stream",
     "text": [
      "/anaconda3/lib/python3.7/site-packages/IPython/core/interactiveshell.py:3057: DtypeWarning:\n",
      "\n",
      "Columns (24,25,26,27,28,29,30,31,32,33) have mixed types. Specify dtype option on import or set low_memory=False.\n",
      "\n"
     ]
    },
    {
     "data": {
      "text/html": [
       "<div>\n",
       "<style scoped>\n",
       "    .dataframe tbody tr th:only-of-type {\n",
       "        vertical-align: middle;\n",
       "    }\n",
       "\n",
       "    .dataframe tbody tr th {\n",
       "        vertical-align: top;\n",
       "    }\n",
       "\n",
       "    .dataframe thead th {\n",
       "        text-align: right;\n",
       "    }\n",
       "</style>\n",
       "<table border=\"1\" class=\"dataframe\">\n",
       "  <thead>\n",
       "    <tr style=\"text-align: right;\">\n",
       "      <th></th>\n",
       "      <th>Response ID</th>\n",
       "      <th>Time Started</th>\n",
       "      <th>Date Submitted</th>\n",
       "      <th>Status</th>\n",
       "      <th>Language</th>\n",
       "      <th>Country</th>\n",
       "      <th>Link Name</th>\n",
       "      <th>I consider myself:</th>\n",
       "      <th>WiFi Router:Check all the internet connected devices you currently own:</th>\n",
       "      <th>Laptop computer:Check all the internet connected devices you currently own:</th>\n",
       "      <th>Smart phone:Check all the internet connected devices you currently own:</th>\n",
       "      <th>Smart TV:Check all the internet connected devices you currently own:</th>\n",
       "      <th>Activity Tracker (ex: Fitbit or Apple Watch):Check all the internet connected devices you currently own:</th>\n",
       "      <th>Smarthome Hub (ex. Amazon Echo, Google Alexa):Check all the internet connected devices you currently own:</th>\n",
       "      <th>Car that connects to the internet:Check all the internet connected devices you currently own:</th>\n",
       "      <th>Smart Thermostat (ex: Nest):Check all the internet connected devices you currently own:</th>\n",
       "      <th>Smart Appliance (ex. Coffeemaker, Refrigerator, Oven, Fridge):Check all the internet connected devices you currently own:</th>\n",
       "      <th>Smart Door Locks (ex. Door locks for your home you can open via bluetooth):Check all the internet connected devices you currently own:</th>\n",
       "      <th>Smart Lighting (ex. Connected lighting switches, dimmers, or bulbs):Check all the internet connected devices you currently own:</th>\n",
       "      <th>Thinking about a future in which so much of your world is connected to the internet leaves you feeling:</th>\n",
       "      <th>What are you most excited about as we move toward a more digitally connected future?</th>\n",
       "      <th>What is your biggest fear as we move towards a more connected future?</th>\n",
       "      <th>Who is most responsible for protecting the online safety, privacy, and security of the connected apps and devices you own?</th>\n",
       "      <th>Who do you most trust to help you learn how to protect your safety, security and privacy online?</th>\n",
       "      <th>Price:YouÛªre planning on buying your next cool new tech toy. Maybe itÛªs a smart TV or a new smartphone. åÊTake a look at the items below and arrange them in order of importance as you make that purchase.</th>\n",
       "      <th>Features:YouÛªre planning on buying your next cool new tech toy. Maybe itÛªs a smart TV or a new smartphone. åÊTake a look at the items below and arrange them in order of importance as you make that purchase.</th>\n",
       "      <th>Safety:YouÛªre planning on buying your next cool new tech toy. Maybe itÛªs a smart TV or a new smartphone. åÊTake a look at the items below and arrange them in order of importance as you make that purchase.</th>\n",
       "      <th>Security</th>\n",
       "      <th>Privacy</th>\n",
       "      <th>Reliability:YouÛªre planning on buying your next cool new tech toy. Maybe itÛªs a smart TV or a new smartphone. åÊTake a look at the items below and arrange them in order of importance as you make that purchase.</th>\n",
       "      <th>User Reviews:YouÛªre planning on buying your next cool new tech toy. Maybe itÛªs a smart TV or a new smartphone. åÊTake a look at the items below and arrange them in order of importance as you make that purchase.</th>\n",
       "      <th>Expert Recommendation:YouÛªre planning on buying your next cool new tech toy. Maybe itÛªs a smart TV or a new smartphone. åÊTake a look at the items below and arrange them in order of importance as you make that purchase.</th>\n",
       "      <th>Friend or Family Recommendation:YouÛªre planning on buying your next cool new tech toy. Maybe itÛªs a smart TV or a new smartphone. åÊTake a look at the items below and arrange them in order of importance as you make that purchase.</th>\n",
       "      <th>Convenience:YouÛªre planning on buying your next cool new tech toy. Maybe itÛªs a smart TV or a new smartphone. åÊTake a look at the items below and arrange them in order of importance as you make that purchase.</th>\n",
       "      <th>IoT:Check all the terms below that you could explain to a friend:</th>\n",
       "      <th>Connected Devices:Check all the terms below that you could explain to a friend:</th>\n",
       "      <th>Botnet:Check all the terms below that you could explain to a friend:</th>\n",
       "      <th>Blockchain:Check all the terms below that you could explain to a friend:</th>\n",
       "      <th>RFID:Check all the terms below that you could explain to a friend:</th>\n",
       "      <th>DDOS:Check all the terms below that you could explain to a friend:</th>\n",
       "      <th>Zero Day:Check all the terms below that you could explain to a friend:</th>\n",
       "      <th>VPN:Check all the terms below that you could explain to a friend:</th>\n",
       "      <th>TOR:Check all the terms below that you could explain to a friend:</th>\n",
       "      <th>I donÛªt know what any of these things are:Check all the terms below that you could explain to a friend:</th>\n",
       "      <th>Country or Region (optional)</th>\n",
       "    </tr>\n",
       "  </thead>\n",
       "  <tbody>\n",
       "    <tr>\n",
       "      <th>192649</th>\n",
       "      <td>192651</td>\n",
       "      <td>10/12/17 11:47</td>\n",
       "      <td>10/12/17 11:55</td>\n",
       "      <td>Complete</td>\n",
       "      <td>pt-br</td>\n",
       "      <td>Brazil</td>\n",
       "      <td>Snippet</td>\n",
       "      <td>Average User:   I know enough to get by.</td>\n",
       "      <td>WiFi Router</td>\n",
       "      <td>NaN</td>\n",
       "      <td>Smart phone</td>\n",
       "      <td>NaN</td>\n",
       "      <td>NaN</td>\n",
       "      <td>NaN</td>\n",
       "      <td>NaN</td>\n",
       "      <td>NaN</td>\n",
       "      <td>NaN</td>\n",
       "      <td>NaN</td>\n",
       "      <td>NaN</td>\n",
       "      <td>Cautiously optimistic. IÛªm hopeful weÛªre b...</td>\n",
       "      <td>How easy it will make life</td>\n",
       "      <td>I have no fears about a more connected future</td>\n",
       "      <td>The makers of those apps and devices should bu...</td>\n",
       "      <td>Non-profit organizations like Mozilla and Cons...</td>\n",
       "      <td>5</td>\n",
       "      <td>4</td>\n",
       "      <td>6</td>\n",
       "      <td>7</td>\n",
       "      <td>8</td>\n",
       "      <td>2</td>\n",
       "      <td>9</td>\n",
       "      <td>3</td>\n",
       "      <td>10</td>\n",
       "      <td>1</td>\n",
       "      <td>NaN</td>\n",
       "      <td>Connected Devices</td>\n",
       "      <td>NaN</td>\n",
       "      <td>NaN</td>\n",
       "      <td>NaN</td>\n",
       "      <td>NaN</td>\n",
       "      <td>NaN</td>\n",
       "      <td>NaN</td>\n",
       "      <td>NaN</td>\n",
       "      <td>NaN</td>\n",
       "      <td>Brazil</td>\n",
       "    </tr>\n",
       "    <tr>\n",
       "      <th>192650</th>\n",
       "      <td>192652</td>\n",
       "      <td>10/12/17 12:34</td>\n",
       "      <td>10/12/17 12:39</td>\n",
       "      <td>Complete</td>\n",
       "      <td>pt-br</td>\n",
       "      <td>Brazil</td>\n",
       "      <td>Email</td>\n",
       "      <td>Technically Savvy:   I know my way around a co...</td>\n",
       "      <td>WiFi Router</td>\n",
       "      <td>Laptop computer</td>\n",
       "      <td>Smart phone</td>\n",
       "      <td>Smart TV</td>\n",
       "      <td>NaN</td>\n",
       "      <td>NaN</td>\n",
       "      <td>NaN</td>\n",
       "      <td>NaN</td>\n",
       "      <td>NaN</td>\n",
       "      <td>NaN</td>\n",
       "      <td>NaN</td>\n",
       "      <td>Cautiously optimistic. IÛªm hopeful weÛªre b...</td>\n",
       "      <td>How easy it will make life</td>\n",
       "      <td>WeÛªll be less safe</td>\n",
       "      <td>ItÛªs up to me to protect myself online</td>\n",
       "      <td>Non-profit organizations like Mozilla and Cons...</td>\n",
       "      <td>3</td>\n",
       "      <td>2</td>\n",
       "      <td>4</td>\n",
       "      <td>5</td>\n",
       "      <td>6</td>\n",
       "      <td>7</td>\n",
       "      <td>9</td>\n",
       "      <td>8</td>\n",
       "      <td>10</td>\n",
       "      <td>1</td>\n",
       "      <td>NaN</td>\n",
       "      <td>Connected Devices</td>\n",
       "      <td>NaN</td>\n",
       "      <td>NaN</td>\n",
       "      <td>RFID</td>\n",
       "      <td>NaN</td>\n",
       "      <td>NaN</td>\n",
       "      <td>VPN</td>\n",
       "      <td>NaN</td>\n",
       "      <td>NaN</td>\n",
       "      <td>Brazil</td>\n",
       "    </tr>\n",
       "    <tr>\n",
       "      <th>192651</th>\n",
       "      <td>192653</td>\n",
       "      <td>10/12/17 13:27</td>\n",
       "      <td>10/12/17 13:30</td>\n",
       "      <td>Complete</td>\n",
       "      <td>English</td>\n",
       "      <td>Costa Rica</td>\n",
       "      <td>Email</td>\n",
       "      <td>Technically Savvy:   I know my way around a co...</td>\n",
       "      <td>WiFi Router</td>\n",
       "      <td>Laptop computer</td>\n",
       "      <td>Smart phone</td>\n",
       "      <td>NaN</td>\n",
       "      <td>Activity Tracker (ex: Fitbit or Apple Watch)</td>\n",
       "      <td>NaN</td>\n",
       "      <td>NaN</td>\n",
       "      <td>NaN</td>\n",
       "      <td>NaN</td>\n",
       "      <td>NaN</td>\n",
       "      <td>NaN</td>\n",
       "      <td>A little wary. All this being connected to the...</td>\n",
       "      <td>None of the above</td>\n",
       "      <td>WeÛªll lose touch with one another</td>\n",
       "      <td>The makers of those apps and devices should bu...</td>\n",
       "      <td>Non-profit organizations like Mozilla and Cons...</td>\n",
       "      <td>1</td>\n",
       "      <td>2</td>\n",
       "      <td>9</td>\n",
       "      <td>7</td>\n",
       "      <td>6</td>\n",
       "      <td>3</td>\n",
       "      <td>4</td>\n",
       "      <td>5</td>\n",
       "      <td>10</td>\n",
       "      <td>8</td>\n",
       "      <td>IoT</td>\n",
       "      <td>Connected Devices</td>\n",
       "      <td>Botnet</td>\n",
       "      <td>Blockchain</td>\n",
       "      <td>RFID</td>\n",
       "      <td>NaN</td>\n",
       "      <td>NaN</td>\n",
       "      <td>VPN</td>\n",
       "      <td>TOR</td>\n",
       "      <td>NaN</td>\n",
       "      <td>Costa Rica</td>\n",
       "    </tr>\n",
       "    <tr>\n",
       "      <th>192652</th>\n",
       "      <td>192654</td>\n",
       "      <td>10/12/17 14:10</td>\n",
       "      <td>10/12/17 14:18</td>\n",
       "      <td>Complete</td>\n",
       "      <td>English</td>\n",
       "      <td>Tanzania, United Republic of</td>\n",
       "      <td>Snippet</td>\n",
       "      <td>Technically Savvy:   I know my way around a co...</td>\n",
       "      <td>WiFi Router</td>\n",
       "      <td>Laptop computer</td>\n",
       "      <td>Smart phone</td>\n",
       "      <td>Smart TV</td>\n",
       "      <td>Activity Tracker (ex: Fitbit or Apple Watch)</td>\n",
       "      <td>Smarthome Hub (ex. Amazon Echo, Google Alexa)</td>\n",
       "      <td>Car that connects to the internet</td>\n",
       "      <td>Smart Thermostat (ex: Nest)</td>\n",
       "      <td>Smart Appliance (ex. Coffeemaker, Refrigerator...</td>\n",
       "      <td>Smart Door Locks (ex. Door locks for your home...</td>\n",
       "      <td>Smart Lighting (ex. Connected lighting switche...</td>\n",
       "      <td>Cautiously optimistic. IÛªm hopeful weÛªre b...</td>\n",
       "      <td>None of the above</td>\n",
       "      <td>WeÛªll be less safe</td>\n",
       "      <td>ItÛªs up to me to protect myself online</td>\n",
       "      <td>My friends and family</td>\n",
       "      <td>NaN</td>\n",
       "      <td>NaN</td>\n",
       "      <td>NaN</td>\n",
       "      <td>NaN</td>\n",
       "      <td>NaN</td>\n",
       "      <td>NaN</td>\n",
       "      <td>NaN</td>\n",
       "      <td>NaN</td>\n",
       "      <td>NaN</td>\n",
       "      <td>NaN</td>\n",
       "      <td>NaN</td>\n",
       "      <td>NaN</td>\n",
       "      <td>NaN</td>\n",
       "      <td>NaN</td>\n",
       "      <td>NaN</td>\n",
       "      <td>NaN</td>\n",
       "      <td>NaN</td>\n",
       "      <td>NaN</td>\n",
       "      <td>NaN</td>\n",
       "      <td>NaN</td>\n",
       "      <td>Tanzania</td>\n",
       "    </tr>\n",
       "    <tr>\n",
       "      <th>192653</th>\n",
       "      <td>192655</td>\n",
       "      <td>10/12/17 15:10</td>\n",
       "      <td>10/12/17 15:11</td>\n",
       "      <td>Complete</td>\n",
       "      <td>English</td>\n",
       "      <td>Congo</td>\n",
       "      <td>Snippet</td>\n",
       "      <td>NaN</td>\n",
       "      <td>WiFi Router</td>\n",
       "      <td>Laptop computer</td>\n",
       "      <td>Smart phone</td>\n",
       "      <td>Smart TV</td>\n",
       "      <td>NaN</td>\n",
       "      <td>Smarthome Hub (ex. Amazon Echo, Google Alexa)</td>\n",
       "      <td>NaN</td>\n",
       "      <td>NaN</td>\n",
       "      <td>NaN</td>\n",
       "      <td>NaN</td>\n",
       "      <td>NaN</td>\n",
       "      <td>NaN</td>\n",
       "      <td>NaN</td>\n",
       "      <td>NaN</td>\n",
       "      <td>NaN</td>\n",
       "      <td>NaN</td>\n",
       "      <td>NaN</td>\n",
       "      <td>NaN</td>\n",
       "      <td>NaN</td>\n",
       "      <td>NaN</td>\n",
       "      <td>NaN</td>\n",
       "      <td>NaN</td>\n",
       "      <td>NaN</td>\n",
       "      <td>NaN</td>\n",
       "      <td>NaN</td>\n",
       "      <td>NaN</td>\n",
       "      <td>NaN</td>\n",
       "      <td>NaN</td>\n",
       "      <td>NaN</td>\n",
       "      <td>NaN</td>\n",
       "      <td>NaN</td>\n",
       "      <td>NaN</td>\n",
       "      <td>NaN</td>\n",
       "      <td>NaN</td>\n",
       "      <td>NaN</td>\n",
       "      <td>NaN</td>\n",
       "      <td>NaN</td>\n",
       "    </tr>\n",
       "  </tbody>\n",
       "</table>\n",
       "</div>"
      ],
      "text/plain": [
       "        Response ID    Time Started  Date Submitted    Status Language  \\\n",
       "192649       192651  10/12/17 11:47  10/12/17 11:55  Complete    pt-br   \n",
       "192650       192652  10/12/17 12:34  10/12/17 12:39  Complete    pt-br   \n",
       "192651       192653  10/12/17 13:27  10/12/17 13:30  Complete  English   \n",
       "192652       192654  10/12/17 14:10  10/12/17 14:18  Complete  English   \n",
       "192653       192655  10/12/17 15:10  10/12/17 15:11  Complete  English   \n",
       "\n",
       "                             Country Link Name  \\\n",
       "192649                        Brazil   Snippet   \n",
       "192650                        Brazil     Email   \n",
       "192651                    Costa Rica     Email   \n",
       "192652  Tanzania, United Republic of   Snippet   \n",
       "192653                         Congo   Snippet   \n",
       "\n",
       "                                       I consider myself:  \\\n",
       "192649           Average User:   I know enough to get by.   \n",
       "192650  Technically Savvy:   I know my way around a co...   \n",
       "192651  Technically Savvy:   I know my way around a co...   \n",
       "192652  Technically Savvy:   I know my way around a co...   \n",
       "192653                                                NaN   \n",
       "\n",
       "       WiFi Router:Check all the internet connected devices you currently own:  \\\n",
       "192649                                        WiFi Router                        \n",
       "192650                                        WiFi Router                        \n",
       "192651                                        WiFi Router                        \n",
       "192652                                        WiFi Router                        \n",
       "192653                                        WiFi Router                        \n",
       "\n",
       "       Laptop computer:Check all the internet connected devices you currently own:  \\\n",
       "192649                                                NaN                            \n",
       "192650                                    Laptop computer                            \n",
       "192651                                    Laptop computer                            \n",
       "192652                                    Laptop computer                            \n",
       "192653                                    Laptop computer                            \n",
       "\n",
       "       Smart phone:Check all the internet connected devices you currently own:  \\\n",
       "192649                                        Smart phone                        \n",
       "192650                                        Smart phone                        \n",
       "192651                                        Smart phone                        \n",
       "192652                                        Smart phone                        \n",
       "192653                                        Smart phone                        \n",
       "\n",
       "       Smart TV:Check all the internet connected devices you currently own:  \\\n",
       "192649                                                NaN                     \n",
       "192650                                           Smart TV                     \n",
       "192651                                                NaN                     \n",
       "192652                                           Smart TV                     \n",
       "192653                                           Smart TV                     \n",
       "\n",
       "       Activity Tracker (ex: Fitbit or Apple Watch):Check all the internet connected devices you currently own:  \\\n",
       "192649                                                NaN                                                         \n",
       "192650                                                NaN                                                         \n",
       "192651       Activity Tracker (ex: Fitbit or Apple Watch)                                                         \n",
       "192652       Activity Tracker (ex: Fitbit or Apple Watch)                                                         \n",
       "192653                                                NaN                                                         \n",
       "\n",
       "       Smarthome Hub (ex. Amazon Echo, Google Alexa):Check all the internet connected devices you currently own:  \\\n",
       "192649                                                NaN                                                          \n",
       "192650                                                NaN                                                          \n",
       "192651                                                NaN                                                          \n",
       "192652      Smarthome Hub (ex. Amazon Echo, Google Alexa)                                                          \n",
       "192653      Smarthome Hub (ex. Amazon Echo, Google Alexa)                                                          \n",
       "\n",
       "       Car that connects to the internet:Check all the internet connected devices you currently own:  \\\n",
       "192649                                                NaN                                              \n",
       "192650                                                NaN                                              \n",
       "192651                                                NaN                                              \n",
       "192652                  Car that connects to the internet                                              \n",
       "192653                                                NaN                                              \n",
       "\n",
       "       Smart Thermostat (ex: Nest):Check all the internet connected devices you currently own:  \\\n",
       "192649                                                NaN                                        \n",
       "192650                                                NaN                                        \n",
       "192651                                                NaN                                        \n",
       "192652                        Smart Thermostat (ex: Nest)                                        \n",
       "192653                                                NaN                                        \n",
       "\n",
       "       Smart Appliance (ex. Coffeemaker, Refrigerator, Oven, Fridge):Check all the internet connected devices you currently own:  \\\n",
       "192649                                                NaN                                                                          \n",
       "192650                                                NaN                                                                          \n",
       "192651                                                NaN                                                                          \n",
       "192652  Smart Appliance (ex. Coffeemaker, Refrigerator...                                                                          \n",
       "192653                                                NaN                                                                          \n",
       "\n",
       "       Smart Door Locks (ex. Door locks for your home you can open via bluetooth):Check all the internet connected devices you currently own:  \\\n",
       "192649                                                NaN                                                                                       \n",
       "192650                                                NaN                                                                                       \n",
       "192651                                                NaN                                                                                       \n",
       "192652  Smart Door Locks (ex. Door locks for your home...                                                                                       \n",
       "192653                                                NaN                                                                                       \n",
       "\n",
       "       Smart Lighting (ex. Connected lighting switches, dimmers, or bulbs):Check all the internet connected devices you currently own:  \\\n",
       "192649                                                NaN                                                                                \n",
       "192650                                                NaN                                                                                \n",
       "192651                                                NaN                                                                                \n",
       "192652  Smart Lighting (ex. Connected lighting switche...                                                                                \n",
       "192653                                                NaN                                                                                \n",
       "\n",
       "       Thinking about a future in which so much of your world is connected to the internet leaves you feeling:  \\\n",
       "192649  Cautiously optimistic. IÛªm hopeful weÛªre b...                                                        \n",
       "192650  Cautiously optimistic. IÛªm hopeful weÛªre b...                                                        \n",
       "192651  A little wary. All this being connected to the...                                                        \n",
       "192652  Cautiously optimistic. IÛªm hopeful weÛªre b...                                                        \n",
       "192653                                                NaN                                                        \n",
       "\n",
       "       What are you most excited about as we move toward a more digitally connected future?  \\\n",
       "192649                         How easy it will make life                                     \n",
       "192650                         How easy it will make life                                     \n",
       "192651                                  None of the above                                     \n",
       "192652                                  None of the above                                     \n",
       "192653                                                NaN                                     \n",
       "\n",
       "       What is your biggest fear as we move towards a more connected future?  \\\n",
       "192649      I have no fears about a more connected future                      \n",
       "192650                               WeÛªll be less safe                      \n",
       "192651                WeÛªll lose touch with one another                      \n",
       "192652                               WeÛªll be less safe                      \n",
       "192653                                                NaN                      \n",
       "\n",
       "       Who is most responsible for protecting the online safety, privacy, and security of the connected apps and devices you own?  \\\n",
       "192649  The makers of those apps and devices should bu...                                                                           \n",
       "192650           ItÛªs up to me to protect myself online                                                                           \n",
       "192651  The makers of those apps and devices should bu...                                                                           \n",
       "192652           ItÛªs up to me to protect myself online                                                                           \n",
       "192653                                                NaN                                                                           \n",
       "\n",
       "       Who do you most trust to help you learn how to protect your safety, security and privacy online?  \\\n",
       "192649  Non-profit organizations like Mozilla and Cons...                                                 \n",
       "192650  Non-profit organizations like Mozilla and Cons...                                                 \n",
       "192651  Non-profit organizations like Mozilla and Cons...                                                 \n",
       "192652                              My friends and family                                                 \n",
       "192653                                                NaN                                                 \n",
       "\n",
       "       Price:YouÛªre planning on buying your next cool new tech toy. Maybe itÛªs a smart TV or a new smartphone. åÊTake a look at the items below and arrange them in order of importance as you make that purchase.  \\\n",
       "192649                                                  5                                                                                                                                                                \n",
       "192650                                                  3                                                                                                                                                                \n",
       "192651                                                  1                                                                                                                                                                \n",
       "192652                                                NaN                                                                                                                                                                \n",
       "192653                                                NaN                                                                                                                                                                \n",
       "\n",
       "       Features:YouÛªre planning on buying your next cool new tech toy. Maybe itÛªs a smart TV or a new smartphone. åÊTake a look at the items below and arrange them in order of importance as you make that purchase.  \\\n",
       "192649                                                  4                                                                                                                                                                   \n",
       "192650                                                  2                                                                                                                                                                   \n",
       "192651                                                  2                                                                                                                                                                   \n",
       "192652                                                NaN                                                                                                                                                                   \n",
       "192653                                                NaN                                                                                                                                                                   \n",
       "\n",
       "       Safety:YouÛªre planning on buying your next cool new tech toy. Maybe itÛªs a smart TV or a new smartphone. åÊTake a look at the items below and arrange them in order of importance as you make that purchase.  \\\n",
       "192649                                                  6                                                                                                                                                                 \n",
       "192650                                                  4                                                                                                                                                                 \n",
       "192651                                                  9                                                                                                                                                                 \n",
       "192652                                                NaN                                                                                                                                                                 \n",
       "192653                                                NaN                                                                                                                                                                 \n",
       "\n",
       "       Security Privacy  \\\n",
       "192649        7       8   \n",
       "192650        5       6   \n",
       "192651        7       6   \n",
       "192652      NaN     NaN   \n",
       "192653      NaN     NaN   \n",
       "\n",
       "       Reliability:YouÛªre planning on buying your next cool new tech toy. Maybe itÛªs a smart TV or a new smartphone. åÊTake a look at the items below and arrange them in order of importance as you make that purchase.  \\\n",
       "192649                                                  2                                                                                                                                                                      \n",
       "192650                                                  7                                                                                                                                                                      \n",
       "192651                                                  3                                                                                                                                                                      \n",
       "192652                                                NaN                                                                                                                                                                      \n",
       "192653                                                NaN                                                                                                                                                                      \n",
       "\n",
       "       User Reviews:YouÛªre planning on buying your next cool new tech toy. Maybe itÛªs a smart TV or a new smartphone. åÊTake a look at the items below and arrange them in order of importance as you make that purchase.  \\\n",
       "192649                                                  9                                                                                                                                                                       \n",
       "192650                                                  9                                                                                                                                                                       \n",
       "192651                                                  4                                                                                                                                                                       \n",
       "192652                                                NaN                                                                                                                                                                       \n",
       "192653                                                NaN                                                                                                                                                                       \n",
       "\n",
       "       Expert Recommendation:YouÛªre planning on buying your next cool new tech toy. Maybe itÛªs a smart TV or a new smartphone. åÊTake a look at the items below and arrange them in order of importance as you make that purchase.  \\\n",
       "192649                                                  3                                                                                                                                                                                \n",
       "192650                                                  8                                                                                                                                                                                \n",
       "192651                                                  5                                                                                                                                                                                \n",
       "192652                                                NaN                                                                                                                                                                                \n",
       "192653                                                NaN                                                                                                                                                                                \n",
       "\n",
       "       Friend or Family Recommendation:YouÛªre planning on buying your next cool new tech toy. Maybe itÛªs a smart TV or a new smartphone. åÊTake a look at the items below and arrange them in order of importance as you make that purchase.  \\\n",
       "192649                                                 10                                                                                                                                                                                          \n",
       "192650                                                 10                                                                                                                                                                                          \n",
       "192651                                                 10                                                                                                                                                                                          \n",
       "192652                                                NaN                                                                                                                                                                                          \n",
       "192653                                                NaN                                                                                                                                                                                          \n",
       "\n",
       "       Convenience:YouÛªre planning on buying your next cool new tech toy. Maybe itÛªs a smart TV or a new smartphone. åÊTake a look at the items below and arrange them in order of importance as you make that purchase.  \\\n",
       "192649                                                  1                                                                                                                                                                      \n",
       "192650                                                  1                                                                                                                                                                      \n",
       "192651                                                  8                                                                                                                                                                      \n",
       "192652                                                NaN                                                                                                                                                                      \n",
       "192653                                                NaN                                                                                                                                                                      \n",
       "\n",
       "       IoT:Check all the terms below that you could explain to a friend:  \\\n",
       "192649                                                NaN                  \n",
       "192650                                                NaN                  \n",
       "192651                                                IoT                  \n",
       "192652                                                NaN                  \n",
       "192653                                                NaN                  \n",
       "\n",
       "       Connected Devices:Check all the terms below that you could explain to a friend:  \\\n",
       "192649                                  Connected Devices                                \n",
       "192650                                  Connected Devices                                \n",
       "192651                                  Connected Devices                                \n",
       "192652                                                NaN                                \n",
       "192653                                                NaN                                \n",
       "\n",
       "       Botnet:Check all the terms below that you could explain to a friend:  \\\n",
       "192649                                                NaN                     \n",
       "192650                                                NaN                     \n",
       "192651                                             Botnet                     \n",
       "192652                                                NaN                     \n",
       "192653                                                NaN                     \n",
       "\n",
       "       Blockchain:Check all the terms below that you could explain to a friend:  \\\n",
       "192649                                                NaN                         \n",
       "192650                                                NaN                         \n",
       "192651                                         Blockchain                         \n",
       "192652                                                NaN                         \n",
       "192653                                                NaN                         \n",
       "\n",
       "       RFID:Check all the terms below that you could explain to a friend:  \\\n",
       "192649                                                NaN                   \n",
       "192650                                               RFID                   \n",
       "192651                                               RFID                   \n",
       "192652                                                NaN                   \n",
       "192653                                                NaN                   \n",
       "\n",
       "       DDOS:Check all the terms below that you could explain to a friend:  \\\n",
       "192649                                                NaN                   \n",
       "192650                                                NaN                   \n",
       "192651                                                NaN                   \n",
       "192652                                                NaN                   \n",
       "192653                                                NaN                   \n",
       "\n",
       "       Zero Day:Check all the terms below that you could explain to a friend:  \\\n",
       "192649                                                NaN                       \n",
       "192650                                                NaN                       \n",
       "192651                                                NaN                       \n",
       "192652                                                NaN                       \n",
       "192653                                                NaN                       \n",
       "\n",
       "       VPN:Check all the terms below that you could explain to a friend:  \\\n",
       "192649                                                NaN                  \n",
       "192650                                                VPN                  \n",
       "192651                                                VPN                  \n",
       "192652                                                NaN                  \n",
       "192653                                                NaN                  \n",
       "\n",
       "       TOR:Check all the terms below that you could explain to a friend:  \\\n",
       "192649                                                NaN                  \n",
       "192650                                                NaN                  \n",
       "192651                                                TOR                  \n",
       "192652                                                NaN                  \n",
       "192653                                                NaN                  \n",
       "\n",
       "       I donÛªt know what any of these things are:Check all the terms below that you could explain to a friend:  \\\n",
       "192649                                                NaN                                                          \n",
       "192650                                                NaN                                                          \n",
       "192651                                                NaN                                                          \n",
       "192652                                                NaN                                                          \n",
       "192653                                                NaN                                                          \n",
       "\n",
       "       Country or Region (optional)  \n",
       "192649                       Brazil  \n",
       "192650                       Brazil  \n",
       "192651                   Costa Rica  \n",
       "192652                     Tanzania  \n",
       "192653                          NaN  "
      ]
     },
     "execution_count": 95,
     "metadata": {},
     "output_type": "execute_result"
    }
   ],
   "source": [
    "\n",
    "dataset = pd.read_csv('infovisdata.csv',header=0,encoding = 'unicode_escape')\n",
    "dataset.tail()"
   ]
  },
  {
   "cell_type": "code",
   "execution_count": 103,
   "metadata": {},
   "outputs": [
    {
     "data": {
      "text/html": [
       "<div>\n",
       "<style scoped>\n",
       "    .dataframe tbody tr th:only-of-type {\n",
       "        vertical-align: middle;\n",
       "    }\n",
       "\n",
       "    .dataframe tbody tr th {\n",
       "        vertical-align: top;\n",
       "    }\n",
       "\n",
       "    .dataframe thead th {\n",
       "        text-align: right;\n",
       "    }\n",
       "</style>\n",
       "<table border=\"1\" class=\"dataframe\">\n",
       "  <thead>\n",
       "    <tr style=\"text-align: right;\">\n",
       "      <th></th>\n",
       "      <th>Response ID</th>\n",
       "      <th>Time Started</th>\n",
       "      <th>Date Submitted</th>\n",
       "      <th>Status</th>\n",
       "      <th>Language</th>\n",
       "      <th>Country</th>\n",
       "      <th>Link Name</th>\n",
       "      <th>I consider myself:</th>\n",
       "      <th>WiFi Router:Check all the internet connected devices you currently own:</th>\n",
       "      <th>Laptop computer:Check all the internet connected devices you currently own:</th>\n",
       "      <th>Smart phone:Check all the internet connected devices you currently own:</th>\n",
       "      <th>Smart TV:Check all the internet connected devices you currently own:</th>\n",
       "      <th>Activity Tracker (ex: Fitbit or Apple Watch):Check all the internet connected devices you currently own:</th>\n",
       "      <th>Smarthome Hub (ex. Amazon Echo, Google Alexa):Check all the internet connected devices you currently own:</th>\n",
       "      <th>Car that connects to the internet:Check all the internet connected devices you currently own:</th>\n",
       "      <th>Smart Thermostat (ex: Nest):Check all the internet connected devices you currently own:</th>\n",
       "      <th>Smart Appliance (ex. Coffeemaker, Refrigerator, Oven, Fridge):Check all the internet connected devices you currently own:</th>\n",
       "      <th>Smart Door Locks (ex. Door locks for your home you can open via bluetooth):Check all the internet connected devices you currently own:</th>\n",
       "      <th>Smart Lighting (ex. Connected lighting switches, dimmers, or bulbs):Check all the internet connected devices you currently own:</th>\n",
       "      <th>Thinking about a future in which so much of your world is connected to the internet leaves you feeling:</th>\n",
       "      <th>What are you most excited about as we move toward a more digitally connected future?</th>\n",
       "      <th>What is your biggest fear as we move towards a more connected future?</th>\n",
       "      <th>Who is most responsible for protecting the online safety, privacy, and security of the connected apps and devices you own?</th>\n",
       "      <th>Who do you most trust to help you learn how to protect your safety, security and privacy online?</th>\n",
       "      <th>Price:YouÛªre planning on buying your next cool new tech toy. Maybe itÛªs a smart TV or a new smartphone. åÊTake a look at the items below and arrange them in order of importance as you make that purchase.</th>\n",
       "      <th>Features:YouÛªre planning on buying your next cool new tech toy. Maybe itÛªs a smart TV or a new smartphone. åÊTake a look at the items below and arrange them in order of importance as you make that purchase.</th>\n",
       "      <th>Safety:YouÛªre planning on buying your next cool new tech toy. Maybe itÛªs a smart TV or a new smartphone. åÊTake a look at the items below and arrange them in order of importance as you make that purchase.</th>\n",
       "      <th>Security</th>\n",
       "      <th>Privacy</th>\n",
       "      <th>Reliability:YouÛªre planning on buying your next cool new tech toy. Maybe itÛªs a smart TV or a new smartphone. åÊTake a look at the items below and arrange them in order of importance as you make that purchase.</th>\n",
       "      <th>User Reviews:YouÛªre planning on buying your next cool new tech toy. Maybe itÛªs a smart TV or a new smartphone. åÊTake a look at the items below and arrange them in order of importance as you make that purchase.</th>\n",
       "      <th>Expert Recommendation:YouÛªre planning on buying your next cool new tech toy. Maybe itÛªs a smart TV or a new smartphone. åÊTake a look at the items below and arrange them in order of importance as you make that purchase.</th>\n",
       "      <th>Friend or Family Recommendation:YouÛªre planning on buying your next cool new tech toy. Maybe itÛªs a smart TV or a new smartphone. åÊTake a look at the items below and arrange them in order of importance as you make that purchase.</th>\n",
       "      <th>Convenience:YouÛªre planning on buying your next cool new tech toy. Maybe itÛªs a smart TV or a new smartphone. åÊTake a look at the items below and arrange them in order of importance as you make that purchase.</th>\n",
       "      <th>IoT:Check all the terms below that you could explain to a friend:</th>\n",
       "      <th>Connected Devices:Check all the terms below that you could explain to a friend:</th>\n",
       "      <th>Botnet:Check all the terms below that you could explain to a friend:</th>\n",
       "      <th>Blockchain:Check all the terms below that you could explain to a friend:</th>\n",
       "      <th>RFID:Check all the terms below that you could explain to a friend:</th>\n",
       "      <th>DDOS:Check all the terms below that you could explain to a friend:</th>\n",
       "      <th>Zero Day:Check all the terms below that you could explain to a friend:</th>\n",
       "      <th>VPN:Check all the terms below that you could explain to a friend:</th>\n",
       "      <th>TOR:Check all the terms below that you could explain to a friend:</th>\n",
       "      <th>I donÛªt know what any of these things are:Check all the terms below that you could explain to a friend:</th>\n",
       "      <th>Country or Region (optional)</th>\n",
       "    </tr>\n",
       "  </thead>\n",
       "  <tbody>\n",
       "    <tr>\n",
       "      <th>185957</th>\n",
       "      <td>185959</td>\n",
       "      <td>9/3/17 0:51</td>\n",
       "      <td>9/3/17 0:55</td>\n",
       "      <td>Complete</td>\n",
       "      <td>French</td>\n",
       "      <td>France</td>\n",
       "      <td>Snippet</td>\n",
       "      <td>Ultra Nerd:  I build my own computers, run my ...</td>\n",
       "      <td>WiFi Router</td>\n",
       "      <td>Laptop computer</td>\n",
       "      <td>Smart phone</td>\n",
       "      <td>Smart TV</td>\n",
       "      <td>Activity Tracker (ex: Fitbit or Apple Watch)</td>\n",
       "      <td>Smarthome Hub (ex. Amazon Echo, Google Alexa)</td>\n",
       "      <td>Car that connects to the internet</td>\n",
       "      <td>Smart Thermostat (ex: Nest)</td>\n",
       "      <td>Smart Appliance (ex. Coffeemaker, Refrigerator...</td>\n",
       "      <td>Smart Door Locks (ex. Door locks for your home...</td>\n",
       "      <td>Smart Lighting (ex. Connected lighting switche...</td>\n",
       "      <td>Super excited! I canÛªt wait for everything t...</td>\n",
       "      <td>How easy it will make life</td>\n",
       "      <td>I have no fears about a more connected future</td>\n",
       "      <td>I honestly donÛªt know</td>\n",
       "      <td>Non-profit organizations like Mozilla and Cons...</td>\n",
       "      <td>1</td>\n",
       "      <td>2</td>\n",
       "      <td>7</td>\n",
       "      <td>9</td>\n",
       "      <td>8</td>\n",
       "      <td>3</td>\n",
       "      <td>4</td>\n",
       "      <td>5</td>\n",
       "      <td>6</td>\n",
       "      <td>10</td>\n",
       "      <td>IoT</td>\n",
       "      <td>Connected Devices</td>\n",
       "      <td>Botnet</td>\n",
       "      <td>Blockchain</td>\n",
       "      <td>RFID</td>\n",
       "      <td>DDOS</td>\n",
       "      <td>Zero Day</td>\n",
       "      <td>VPN</td>\n",
       "      <td>TOR</td>\n",
       "      <td>I donÛªt know what any of these things are</td>\n",
       "      <td>France</td>\n",
       "    </tr>\n",
       "    <tr>\n",
       "      <th>185999</th>\n",
       "      <td>186001</td>\n",
       "      <td>9/3/17 1:04</td>\n",
       "      <td>9/3/17 1:09</td>\n",
       "      <td>Complete</td>\n",
       "      <td>French</td>\n",
       "      <td>France</td>\n",
       "      <td>Snippet</td>\n",
       "      <td>Ultra Nerd:  I build my own computers, run my ...</td>\n",
       "      <td>WiFi Router</td>\n",
       "      <td>Laptop computer</td>\n",
       "      <td>Smart phone</td>\n",
       "      <td>Smart TV</td>\n",
       "      <td>Activity Tracker (ex: Fitbit or Apple Watch)</td>\n",
       "      <td>Smarthome Hub (ex. Amazon Echo, Google Alexa)</td>\n",
       "      <td>Car that connects to the internet</td>\n",
       "      <td>Smart Thermostat (ex: Nest)</td>\n",
       "      <td>Smart Appliance (ex. Coffeemaker, Refrigerator...</td>\n",
       "      <td>Smart Door Locks (ex. Door locks for your home...</td>\n",
       "      <td>Smart Lighting (ex. Connected lighting switche...</td>\n",
       "      <td>Super excited! I canÛªt wait for everything t...</td>\n",
       "      <td>Other (please specify)</td>\n",
       "      <td>Other (please specify)</td>\n",
       "      <td>ItÛªs up to me to protect myself online</td>\n",
       "      <td>The media</td>\n",
       "      <td>6</td>\n",
       "      <td>8</td>\n",
       "      <td>4</td>\n",
       "      <td>1</td>\n",
       "      <td>10</td>\n",
       "      <td>7</td>\n",
       "      <td>9</td>\n",
       "      <td>3</td>\n",
       "      <td>2</td>\n",
       "      <td>5</td>\n",
       "      <td>IoT</td>\n",
       "      <td>Connected Devices</td>\n",
       "      <td>Botnet</td>\n",
       "      <td>Blockchain</td>\n",
       "      <td>RFID</td>\n",
       "      <td>DDOS</td>\n",
       "      <td>Zero Day</td>\n",
       "      <td>VPN</td>\n",
       "      <td>TOR</td>\n",
       "      <td>I donÛªt know what any of these things are</td>\n",
       "      <td>Kazakhstan</td>\n",
       "    </tr>\n",
       "    <tr>\n",
       "      <th>188022</th>\n",
       "      <td>188024</td>\n",
       "      <td>9/3/17 23:15</td>\n",
       "      <td>9/3/17 23:17</td>\n",
       "      <td>Complete</td>\n",
       "      <td>English</td>\n",
       "      <td>India</td>\n",
       "      <td>Snippet</td>\n",
       "      <td>Ultra Nerd:  I build my own computers, run my ...</td>\n",
       "      <td>WiFi Router</td>\n",
       "      <td>Laptop computer</td>\n",
       "      <td>Smart phone</td>\n",
       "      <td>Smart TV</td>\n",
       "      <td>Activity Tracker (ex: Fitbit or Apple Watch)</td>\n",
       "      <td>Smarthome Hub (ex. Amazon Echo, Google Alexa)</td>\n",
       "      <td>Car that connects to the internet</td>\n",
       "      <td>Smart Thermostat (ex: Nest)</td>\n",
       "      <td>Smart Appliance (ex. Coffeemaker, Refrigerator...</td>\n",
       "      <td>Smart Door Locks (ex. Door locks for your home...</td>\n",
       "      <td>Smart Lighting (ex. Connected lighting switche...</td>\n",
       "      <td>Super excited! I canÛªt wait for everything t...</td>\n",
       "      <td>How easy it will make life</td>\n",
       "      <td>I have no fears about a more connected future</td>\n",
       "      <td>The makers of those apps and devices should bu...</td>\n",
       "      <td>The makers of connected devices and apps</td>\n",
       "      <td>1</td>\n",
       "      <td>10</td>\n",
       "      <td>2</td>\n",
       "      <td>9</td>\n",
       "      <td>8</td>\n",
       "      <td>3</td>\n",
       "      <td>7</td>\n",
       "      <td>4</td>\n",
       "      <td>6</td>\n",
       "      <td>5</td>\n",
       "      <td>IoT</td>\n",
       "      <td>Connected Devices</td>\n",
       "      <td>Botnet</td>\n",
       "      <td>Blockchain</td>\n",
       "      <td>RFID</td>\n",
       "      <td>DDOS</td>\n",
       "      <td>Zero Day</td>\n",
       "      <td>VPN</td>\n",
       "      <td>TOR</td>\n",
       "      <td>I donÛªt know what any of these things are</td>\n",
       "      <td>India</td>\n",
       "    </tr>\n",
       "    <tr>\n",
       "      <th>188173</th>\n",
       "      <td>188175</td>\n",
       "      <td>9/4/17 2:25</td>\n",
       "      <td>9/4/17 2:27</td>\n",
       "      <td>Complete</td>\n",
       "      <td>English</td>\n",
       "      <td>India</td>\n",
       "      <td>Snippet</td>\n",
       "      <td>Ultra Nerd:  I build my own computers, run my ...</td>\n",
       "      <td>WiFi Router</td>\n",
       "      <td>Laptop computer</td>\n",
       "      <td>Smart phone</td>\n",
       "      <td>Smart TV</td>\n",
       "      <td>Activity Tracker (ex: Fitbit or Apple Watch)</td>\n",
       "      <td>Smarthome Hub (ex. Amazon Echo, Google Alexa)</td>\n",
       "      <td>Car that connects to the internet</td>\n",
       "      <td>Smart Thermostat (ex: Nest)</td>\n",
       "      <td>Smart Appliance (ex. Coffeemaker, Refrigerator...</td>\n",
       "      <td>Smart Door Locks (ex. Door locks for your home...</td>\n",
       "      <td>Smart Lighting (ex. Connected lighting switche...</td>\n",
       "      <td>Super excited! I canÛªt wait for everything t...</td>\n",
       "      <td>How easy it will make life</td>\n",
       "      <td>The loss of privacy</td>\n",
       "      <td>ItÛªs up to me to protect myself online</td>\n",
       "      <td>The makers of connected devices and apps</td>\n",
       "      <td>4</td>\n",
       "      <td>7</td>\n",
       "      <td>1</td>\n",
       "      <td>2</td>\n",
       "      <td>6</td>\n",
       "      <td>5</td>\n",
       "      <td>10</td>\n",
       "      <td>8</td>\n",
       "      <td>3</td>\n",
       "      <td>9</td>\n",
       "      <td>IoT</td>\n",
       "      <td>Connected Devices</td>\n",
       "      <td>Botnet</td>\n",
       "      <td>Blockchain</td>\n",
       "      <td>RFID</td>\n",
       "      <td>DDOS</td>\n",
       "      <td>Zero Day</td>\n",
       "      <td>VPN</td>\n",
       "      <td>TOR</td>\n",
       "      <td>I donÛªt know what any of these things are</td>\n",
       "      <td>India</td>\n",
       "    </tr>\n",
       "    <tr>\n",
       "      <th>189526</th>\n",
       "      <td>189528</td>\n",
       "      <td>9/6/17 11:26</td>\n",
       "      <td>9/6/17 11:34</td>\n",
       "      <td>Complete</td>\n",
       "      <td>English</td>\n",
       "      <td>Sierra Leone</td>\n",
       "      <td>Snippet</td>\n",
       "      <td>Ultra Nerd:  I build my own computers, run my ...</td>\n",
       "      <td>WiFi Router</td>\n",
       "      <td>Laptop computer</td>\n",
       "      <td>Smart phone</td>\n",
       "      <td>Smart TV</td>\n",
       "      <td>Activity Tracker (ex: Fitbit or Apple Watch)</td>\n",
       "      <td>Smarthome Hub (ex. Amazon Echo, Google Alexa)</td>\n",
       "      <td>Car that connects to the internet</td>\n",
       "      <td>Smart Thermostat (ex: Nest)</td>\n",
       "      <td>Smart Appliance (ex. Coffeemaker, Refrigerator...</td>\n",
       "      <td>Smart Door Locks (ex. Door locks for your home...</td>\n",
       "      <td>Smart Lighting (ex. Connected lighting switche...</td>\n",
       "      <td>Super excited! I canÛªt wait for everything t...</td>\n",
       "      <td>How it will make us all smarter and better edu...</td>\n",
       "      <td>I have no fears about a more connected future</td>\n",
       "      <td>I honestly donÛªt know</td>\n",
       "      <td>I just donÛªt know who to trust</td>\n",
       "      <td>2</td>\n",
       "      <td>1</td>\n",
       "      <td>3</td>\n",
       "      <td>4</td>\n",
       "      <td>5</td>\n",
       "      <td>6</td>\n",
       "      <td>7</td>\n",
       "      <td>8</td>\n",
       "      <td>9</td>\n",
       "      <td>10</td>\n",
       "      <td>IoT</td>\n",
       "      <td>Connected Devices</td>\n",
       "      <td>Botnet</td>\n",
       "      <td>Blockchain</td>\n",
       "      <td>RFID</td>\n",
       "      <td>DDOS</td>\n",
       "      <td>Zero Day</td>\n",
       "      <td>VPN</td>\n",
       "      <td>TOR</td>\n",
       "      <td>I donÛªt know what any of these things are</td>\n",
       "      <td>Sierra Leone</td>\n",
       "    </tr>\n",
       "  </tbody>\n",
       "</table>\n",
       "</div>"
      ],
      "text/plain": [
       "        Response ID  Time Started Date Submitted    Status Language  \\\n",
       "185957       185959   9/3/17 0:51    9/3/17 0:55  Complete   French   \n",
       "185999       186001   9/3/17 1:04    9/3/17 1:09  Complete   French   \n",
       "188022       188024  9/3/17 23:15   9/3/17 23:17  Complete  English   \n",
       "188173       188175   9/4/17 2:25    9/4/17 2:27  Complete  English   \n",
       "189526       189528  9/6/17 11:26   9/6/17 11:34  Complete  English   \n",
       "\n",
       "             Country Link Name  \\\n",
       "185957        France   Snippet   \n",
       "185999        France   Snippet   \n",
       "188022         India   Snippet   \n",
       "188173         India   Snippet   \n",
       "189526  Sierra Leone   Snippet   \n",
       "\n",
       "                                       I consider myself:  \\\n",
       "185957  Ultra Nerd:  I build my own computers, run my ...   \n",
       "185999  Ultra Nerd:  I build my own computers, run my ...   \n",
       "188022  Ultra Nerd:  I build my own computers, run my ...   \n",
       "188173  Ultra Nerd:  I build my own computers, run my ...   \n",
       "189526  Ultra Nerd:  I build my own computers, run my ...   \n",
       "\n",
       "       WiFi Router:Check all the internet connected devices you currently own:  \\\n",
       "185957                                        WiFi Router                        \n",
       "185999                                        WiFi Router                        \n",
       "188022                                        WiFi Router                        \n",
       "188173                                        WiFi Router                        \n",
       "189526                                        WiFi Router                        \n",
       "\n",
       "       Laptop computer:Check all the internet connected devices you currently own:  \\\n",
       "185957                                    Laptop computer                            \n",
       "185999                                    Laptop computer                            \n",
       "188022                                    Laptop computer                            \n",
       "188173                                    Laptop computer                            \n",
       "189526                                    Laptop computer                            \n",
       "\n",
       "       Smart phone:Check all the internet connected devices you currently own:  \\\n",
       "185957                                        Smart phone                        \n",
       "185999                                        Smart phone                        \n",
       "188022                                        Smart phone                        \n",
       "188173                                        Smart phone                        \n",
       "189526                                        Smart phone                        \n",
       "\n",
       "       Smart TV:Check all the internet connected devices you currently own:  \\\n",
       "185957                                           Smart TV                     \n",
       "185999                                           Smart TV                     \n",
       "188022                                           Smart TV                     \n",
       "188173                                           Smart TV                     \n",
       "189526                                           Smart TV                     \n",
       "\n",
       "       Activity Tracker (ex: Fitbit or Apple Watch):Check all the internet connected devices you currently own:  \\\n",
       "185957       Activity Tracker (ex: Fitbit or Apple Watch)                                                         \n",
       "185999       Activity Tracker (ex: Fitbit or Apple Watch)                                                         \n",
       "188022       Activity Tracker (ex: Fitbit or Apple Watch)                                                         \n",
       "188173       Activity Tracker (ex: Fitbit or Apple Watch)                                                         \n",
       "189526       Activity Tracker (ex: Fitbit or Apple Watch)                                                         \n",
       "\n",
       "       Smarthome Hub (ex. Amazon Echo, Google Alexa):Check all the internet connected devices you currently own:  \\\n",
       "185957      Smarthome Hub (ex. Amazon Echo, Google Alexa)                                                          \n",
       "185999      Smarthome Hub (ex. Amazon Echo, Google Alexa)                                                          \n",
       "188022      Smarthome Hub (ex. Amazon Echo, Google Alexa)                                                          \n",
       "188173      Smarthome Hub (ex. Amazon Echo, Google Alexa)                                                          \n",
       "189526      Smarthome Hub (ex. Amazon Echo, Google Alexa)                                                          \n",
       "\n",
       "       Car that connects to the internet:Check all the internet connected devices you currently own:  \\\n",
       "185957                  Car that connects to the internet                                              \n",
       "185999                  Car that connects to the internet                                              \n",
       "188022                  Car that connects to the internet                                              \n",
       "188173                  Car that connects to the internet                                              \n",
       "189526                  Car that connects to the internet                                              \n",
       "\n",
       "       Smart Thermostat (ex: Nest):Check all the internet connected devices you currently own:  \\\n",
       "185957                        Smart Thermostat (ex: Nest)                                        \n",
       "185999                        Smart Thermostat (ex: Nest)                                        \n",
       "188022                        Smart Thermostat (ex: Nest)                                        \n",
       "188173                        Smart Thermostat (ex: Nest)                                        \n",
       "189526                        Smart Thermostat (ex: Nest)                                        \n",
       "\n",
       "       Smart Appliance (ex. Coffeemaker, Refrigerator, Oven, Fridge):Check all the internet connected devices you currently own:  \\\n",
       "185957  Smart Appliance (ex. Coffeemaker, Refrigerator...                                                                          \n",
       "185999  Smart Appliance (ex. Coffeemaker, Refrigerator...                                                                          \n",
       "188022  Smart Appliance (ex. Coffeemaker, Refrigerator...                                                                          \n",
       "188173  Smart Appliance (ex. Coffeemaker, Refrigerator...                                                                          \n",
       "189526  Smart Appliance (ex. Coffeemaker, Refrigerator...                                                                          \n",
       "\n",
       "       Smart Door Locks (ex. Door locks for your home you can open via bluetooth):Check all the internet connected devices you currently own:  \\\n",
       "185957  Smart Door Locks (ex. Door locks for your home...                                                                                       \n",
       "185999  Smart Door Locks (ex. Door locks for your home...                                                                                       \n",
       "188022  Smart Door Locks (ex. Door locks for your home...                                                                                       \n",
       "188173  Smart Door Locks (ex. Door locks for your home...                                                                                       \n",
       "189526  Smart Door Locks (ex. Door locks for your home...                                                                                       \n",
       "\n",
       "       Smart Lighting (ex. Connected lighting switches, dimmers, or bulbs):Check all the internet connected devices you currently own:  \\\n",
       "185957  Smart Lighting (ex. Connected lighting switche...                                                                                \n",
       "185999  Smart Lighting (ex. Connected lighting switche...                                                                                \n",
       "188022  Smart Lighting (ex. Connected lighting switche...                                                                                \n",
       "188173  Smart Lighting (ex. Connected lighting switche...                                                                                \n",
       "189526  Smart Lighting (ex. Connected lighting switche...                                                                                \n",
       "\n",
       "       Thinking about a future in which so much of your world is connected to the internet leaves you feeling:  \\\n",
       "185957  Super excited! I canÛªt wait for everything t...                                                        \n",
       "185999  Super excited! I canÛªt wait for everything t...                                                        \n",
       "188022  Super excited! I canÛªt wait for everything t...                                                        \n",
       "188173  Super excited! I canÛªt wait for everything t...                                                        \n",
       "189526  Super excited! I canÛªt wait for everything t...                                                        \n",
       "\n",
       "       What are you most excited about as we move toward a more digitally connected future?  \\\n",
       "185957                         How easy it will make life                                     \n",
       "185999                             Other (please specify)                                     \n",
       "188022                         How easy it will make life                                     \n",
       "188173                         How easy it will make life                                     \n",
       "189526  How it will make us all smarter and better edu...                                     \n",
       "\n",
       "       What is your biggest fear as we move towards a more connected future?  \\\n",
       "185957      I have no fears about a more connected future                      \n",
       "185999                             Other (please specify)                      \n",
       "188022      I have no fears about a more connected future                      \n",
       "188173                                The loss of privacy                      \n",
       "189526      I have no fears about a more connected future                      \n",
       "\n",
       "       Who is most responsible for protecting the online safety, privacy, and security of the connected apps and devices you own?  \\\n",
       "185957                            I honestly donÛªt know                                                                           \n",
       "185999           ItÛªs up to me to protect myself online                                                                           \n",
       "188022  The makers of those apps and devices should bu...                                                                           \n",
       "188173           ItÛªs up to me to protect myself online                                                                           \n",
       "189526                            I honestly donÛªt know                                                                           \n",
       "\n",
       "       Who do you most trust to help you learn how to protect your safety, security and privacy online?  \\\n",
       "185957  Non-profit organizations like Mozilla and Cons...                                                 \n",
       "185999                                          The media                                                 \n",
       "188022           The makers of connected devices and apps                                                 \n",
       "188173           The makers of connected devices and apps                                                 \n",
       "189526                   I just donÛªt know who to trust                                                 \n",
       "\n",
       "       Price:YouÛªre planning on buying your next cool new tech toy. Maybe itÛªs a smart TV or a new smartphone. åÊTake a look at the items below and arrange them in order of importance as you make that purchase.  \\\n",
       "185957                                                  1                                                                                                                                                                \n",
       "185999                                                  6                                                                                                                                                                \n",
       "188022                                                  1                                                                                                                                                                \n",
       "188173                                                  4                                                                                                                                                                \n",
       "189526                                                  2                                                                                                                                                                \n",
       "\n",
       "       Features:YouÛªre planning on buying your next cool new tech toy. Maybe itÛªs a smart TV or a new smartphone. åÊTake a look at the items below and arrange them in order of importance as you make that purchase.  \\\n",
       "185957                                                  2                                                                                                                                                                   \n",
       "185999                                                  8                                                                                                                                                                   \n",
       "188022                                                 10                                                                                                                                                                   \n",
       "188173                                                  7                                                                                                                                                                   \n",
       "189526                                                  1                                                                                                                                                                   \n",
       "\n",
       "       Safety:YouÛªre planning on buying your next cool new tech toy. Maybe itÛªs a smart TV or a new smartphone. åÊTake a look at the items below and arrange them in order of importance as you make that purchase.  \\\n",
       "185957                                                  7                                                                                                                                                                 \n",
       "185999                                                  4                                                                                                                                                                 \n",
       "188022                                                  2                                                                                                                                                                 \n",
       "188173                                                  1                                                                                                                                                                 \n",
       "189526                                                  3                                                                                                                                                                 \n",
       "\n",
       "       Security Privacy  \\\n",
       "185957        9       8   \n",
       "185999        1      10   \n",
       "188022        9       8   \n",
       "188173        2       6   \n",
       "189526        4       5   \n",
       "\n",
       "       Reliability:YouÛªre planning on buying your next cool new tech toy. Maybe itÛªs a smart TV or a new smartphone. åÊTake a look at the items below and arrange them in order of importance as you make that purchase.  \\\n",
       "185957                                                  3                                                                                                                                                                      \n",
       "185999                                                  7                                                                                                                                                                      \n",
       "188022                                                  3                                                                                                                                                                      \n",
       "188173                                                  5                                                                                                                                                                      \n",
       "189526                                                  6                                                                                                                                                                      \n",
       "\n",
       "       User Reviews:YouÛªre planning on buying your next cool new tech toy. Maybe itÛªs a smart TV or a new smartphone. åÊTake a look at the items below and arrange them in order of importance as you make that purchase.  \\\n",
       "185957                                                  4                                                                                                                                                                       \n",
       "185999                                                  9                                                                                                                                                                       \n",
       "188022                                                  7                                                                                                                                                                       \n",
       "188173                                                 10                                                                                                                                                                       \n",
       "189526                                                  7                                                                                                                                                                       \n",
       "\n",
       "       Expert Recommendation:YouÛªre planning on buying your next cool new tech toy. Maybe itÛªs a smart TV or a new smartphone. åÊTake a look at the items below and arrange them in order of importance as you make that purchase.  \\\n",
       "185957                                                  5                                                                                                                                                                                \n",
       "185999                                                  3                                                                                                                                                                                \n",
       "188022                                                  4                                                                                                                                                                                \n",
       "188173                                                  8                                                                                                                                                                                \n",
       "189526                                                  8                                                                                                                                                                                \n",
       "\n",
       "       Friend or Family Recommendation:YouÛªre planning on buying your next cool new tech toy. Maybe itÛªs a smart TV or a new smartphone. åÊTake a look at the items below and arrange them in order of importance as you make that purchase.  \\\n",
       "185957                                                  6                                                                                                                                                                                          \n",
       "185999                                                  2                                                                                                                                                                                          \n",
       "188022                                                  6                                                                                                                                                                                          \n",
       "188173                                                  3                                                                                                                                                                                          \n",
       "189526                                                  9                                                                                                                                                                                          \n",
       "\n",
       "       Convenience:YouÛªre planning on buying your next cool new tech toy. Maybe itÛªs a smart TV or a new smartphone. åÊTake a look at the items below and arrange them in order of importance as you make that purchase.  \\\n",
       "185957                                                 10                                                                                                                                                                      \n",
       "185999                                                  5                                                                                                                                                                      \n",
       "188022                                                  5                                                                                                                                                                      \n",
       "188173                                                  9                                                                                                                                                                      \n",
       "189526                                                 10                                                                                                                                                                      \n",
       "\n",
       "       IoT:Check all the terms below that you could explain to a friend:  \\\n",
       "185957                                                IoT                  \n",
       "185999                                                IoT                  \n",
       "188022                                                IoT                  \n",
       "188173                                                IoT                  \n",
       "189526                                                IoT                  \n",
       "\n",
       "       Connected Devices:Check all the terms below that you could explain to a friend:  \\\n",
       "185957                                  Connected Devices                                \n",
       "185999                                  Connected Devices                                \n",
       "188022                                  Connected Devices                                \n",
       "188173                                  Connected Devices                                \n",
       "189526                                  Connected Devices                                \n",
       "\n",
       "       Botnet:Check all the terms below that you could explain to a friend:  \\\n",
       "185957                                             Botnet                     \n",
       "185999                                             Botnet                     \n",
       "188022                                             Botnet                     \n",
       "188173                                             Botnet                     \n",
       "189526                                             Botnet                     \n",
       "\n",
       "       Blockchain:Check all the terms below that you could explain to a friend:  \\\n",
       "185957                                         Blockchain                         \n",
       "185999                                         Blockchain                         \n",
       "188022                                         Blockchain                         \n",
       "188173                                         Blockchain                         \n",
       "189526                                         Blockchain                         \n",
       "\n",
       "       RFID:Check all the terms below that you could explain to a friend:  \\\n",
       "185957                                               RFID                   \n",
       "185999                                               RFID                   \n",
       "188022                                               RFID                   \n",
       "188173                                               RFID                   \n",
       "189526                                               RFID                   \n",
       "\n",
       "       DDOS:Check all the terms below that you could explain to a friend:  \\\n",
       "185957                                               DDOS                   \n",
       "185999                                               DDOS                   \n",
       "188022                                               DDOS                   \n",
       "188173                                               DDOS                   \n",
       "189526                                               DDOS                   \n",
       "\n",
       "       Zero Day:Check all the terms below that you could explain to a friend:  \\\n",
       "185957                                           Zero Day                       \n",
       "185999                                           Zero Day                       \n",
       "188022                                           Zero Day                       \n",
       "188173                                           Zero Day                       \n",
       "189526                                           Zero Day                       \n",
       "\n",
       "       VPN:Check all the terms below that you could explain to a friend:  \\\n",
       "185957                                                VPN                  \n",
       "185999                                                VPN                  \n",
       "188022                                                VPN                  \n",
       "188173                                                VPN                  \n",
       "189526                                                VPN                  \n",
       "\n",
       "       TOR:Check all the terms below that you could explain to a friend:  \\\n",
       "185957                                                TOR                  \n",
       "185999                                                TOR                  \n",
       "188022                                                TOR                  \n",
       "188173                                                TOR                  \n",
       "189526                                                TOR                  \n",
       "\n",
       "       I donÛªt know what any of these things are:Check all the terms below that you could explain to a friend:  \\\n",
       "185957        I donÛªt know what any of these things are                                                          \n",
       "185999        I donÛªt know what any of these things are                                                          \n",
       "188022        I donÛªt know what any of these things are                                                          \n",
       "188173        I donÛªt know what any of these things are                                                          \n",
       "189526        I donÛªt know what any of these things are                                                          \n",
       "\n",
       "       Country or Region (optional)  \n",
       "185957                       France  \n",
       "185999                   Kazakhstan  \n",
       "188022                        India  \n",
       "188173                        India  \n",
       "189526                 Sierra Leone  "
      ]
     },
     "execution_count": 103,
     "metadata": {},
     "output_type": "execute_result"
    }
   ],
   "source": [
    "filter = dataset[\"Privacy\"] != \"\"\n",
    "dfNew = dataset[filter]\n",
    "dfNew = dfNew.iloc[1:]\n",
    "dfNew1=dataset.dropna()\n",
    "dfNew1.tail()"
   ]
  },
  {
   "cell_type": "code",
   "execution_count": 112,
   "metadata": {},
   "outputs": [
    {
     "name": "stderr",
     "output_type": "stream",
     "text": [
      "/anaconda3/lib/python3.7/site-packages/ipykernel_launcher.py:5: SettingWithCopyWarning:\n",
      "\n",
      "\n",
      "A value is trying to be set on a copy of a slice from a DataFrame.\n",
      "Try using .loc[row_indexer,col_indexer] = value instead\n",
      "\n",
      "See the caveats in the documentation: http://pandas.pydata.org/pandas-docs/stable/indexing.html#indexing-view-versus-copy\n",
      "\n"
     ]
    }
   ],
   "source": [
    "import plotly.express as px\n",
    "find_value=[\"6\",\"10\",\"8\"]\n",
    "replace_value=[\"6.0\",\"10.0\",\"8.0\"]\n",
    "column_replace=\"Security\"\n",
    "dfNew1[column_replace]=dfNew1[column_replace].replace(find_value,replace_value)"
   ]
  },
  {
   "cell_type": "code",
   "execution_count": 116,
   "metadata": {},
   "outputs": [
    {
     "data": {
      "application/vnd.plotly.v1+json": {
       "config": {
        "plotlyServerURL": "https://plot.ly"
       },
       "data": [
        {
         "hoverlabel": {
          "namelength": 0
         },
         "hovertemplate": "Security=6.0<br>Country=%{x}<br>Privacy=%{y}",
         "legendgroup": "Security=6.0",
         "marker": {
          "color": "#636efa",
          "symbol": "circle"
         },
         "mode": "markers",
         "name": "Security=6.0",
         "showlegend": true,
         "type": "scatter",
         "x": [
          "Germany"
         ],
         "xaxis": "x",
         "y": [
          7
         ],
         "yaxis": "y"
        },
        {
         "hoverlabel": {
          "namelength": 0
         },
         "hovertemplate": "Security=10.0<br>Country=%{x}<br>Privacy=%{y}",
         "legendgroup": "Security=10.0",
         "marker": {
          "color": "#EF553B",
          "symbol": "circle"
         },
         "mode": "markers",
         "name": "Security=10.0",
         "showlegend": true,
         "type": "scatter",
         "x": [
          "Mexico"
         ],
         "xaxis": "x",
         "y": [
          5
         ],
         "yaxis": "y"
        },
        {
         "hoverlabel": {
          "namelength": 0
         },
         "hovertemplate": "Security=4.0<br>Country=%{x}<br>Privacy=%{y}",
         "legendgroup": "Security=4.0",
         "marker": {
          "color": "#00cc96",
          "symbol": "circle"
         },
         "mode": "markers",
         "name": "Security=4.0",
         "showlegend": true,
         "type": "scatter",
         "x": [
          "Italy",
          "France",
          "Switzerland",
          "Germany",
          "Nepal",
          "Brazil",
          "Switzerland",
          "Colombia",
          "Philippines",
          "Italy",
          "Germany",
          "Mexico",
          "Mexico",
          "Sierra Leone"
         ],
         "xaxis": "x",
         "y": [
          10,
          3,
          5,
          5,
          10,
          10,
          2,
          5,
          5,
          5,
          10,
          5,
          5,
          5
         ],
         "yaxis": "y"
        },
        {
         "hoverlabel": {
          "namelength": 0
         },
         "hovertemplate": "Security=5.0<br>Country=%{x}<br>Privacy=%{y}",
         "legendgroup": "Security=5.0",
         "marker": {
          "color": "#ab63fa",
          "symbol": "circle"
         },
         "mode": "markers",
         "name": "Security=5.0",
         "showlegend": true,
         "type": "scatter",
         "x": [
          "Germany",
          "Brazil",
          "Brazil",
          "United States"
         ],
         "xaxis": "x",
         "y": [
          4,
          7,
          10,
          6
         ],
         "yaxis": "y"
        },
        {
         "hoverlabel": {
          "namelength": 0
         },
         "hovertemplate": "Security=3.0<br>Country=%{x}<br>Privacy=%{y}",
         "legendgroup": "Security=3.0",
         "marker": {
          "color": "#FFA15A",
          "symbol": "circle"
         },
         "mode": "markers",
         "name": "Security=3.0",
         "showlegend": true,
         "type": "scatter",
         "x": [
          "Switzerland",
          "United States",
          "Argentina",
          "Indonesia"
         ],
         "xaxis": "x",
         "y": [
          5,
          4,
          6,
          8
         ],
         "yaxis": "y"
        },
        {
         "hoverlabel": {
          "namelength": 0
         },
         "hovertemplate": "Security=1.0<br>Country=%{x}<br>Privacy=%{y}",
         "legendgroup": "Security=1.0",
         "marker": {
          "color": "#19d3f3",
          "symbol": "circle"
         },
         "mode": "markers",
         "name": "Security=1.0",
         "showlegend": true,
         "type": "scatter",
         "x": [
          "Mexico",
          "France",
          "India",
          "Australia",
          "France"
         ],
         "xaxis": "x",
         "y": [
          4,
          4,
          2,
          5,
          10
         ],
         "yaxis": "y"
        },
        {
         "hoverlabel": {
          "namelength": 0
         },
         "hovertemplate": "Security=2.0<br>Country=%{x}<br>Privacy=%{y}",
         "legendgroup": "Security=2.0",
         "marker": {
          "color": "#FF6692",
          "symbol": "circle"
         },
         "mode": "markers",
         "name": "Security=2.0",
         "showlegend": true,
         "type": "scatter",
         "x": [
          "France",
          "United Kingdom",
          "Germany",
          "India",
          "India"
         ],
         "xaxis": "x",
         "y": [
          7,
          5,
          1,
          4,
          6
         ],
         "yaxis": "y"
        },
        {
         "hoverlabel": {
          "namelength": 0
         },
         "hovertemplate": "Security=9.0<br>Country=%{x}<br>Privacy=%{y}",
         "legendgroup": "Security=9.0",
         "marker": {
          "color": "#B6E880",
          "symbol": "circle"
         },
         "mode": "markers",
         "name": "Security=9.0",
         "showlegend": true,
         "type": "scatter",
         "x": [
          "Germany",
          "Germany",
          "France",
          "India"
         ],
         "xaxis": "x",
         "y": [
          10,
          8,
          8,
          8
         ],
         "yaxis": "y"
        },
        {
         "hoverlabel": {
          "namelength": 0
         },
         "hovertemplate": "Security=8.0<br>Country=%{x}<br>Privacy=%{y}",
         "legendgroup": "Security=8.0",
         "marker": {
          "color": "#FF97FF",
          "symbol": "circle"
         },
         "mode": "markers",
         "name": "Security=8.0",
         "showlegend": true,
         "type": "scatter",
         "x": [
          "Mexico"
         ],
         "xaxis": "x",
         "y": [
          9
         ],
         "yaxis": "y"
        },
        {
         "hoverlabel": {
          "namelength": 0
         },
         "hovertemplate": "Security=7.0<br>Country=%{x}<br>Privacy=%{y}",
         "legendgroup": "Security=7.0",
         "marker": {
          "color": "#FECB52",
          "symbol": "circle"
         },
         "mode": "markers",
         "name": "Security=7.0",
         "showlegend": true,
         "type": "scatter",
         "x": [
          "Germany",
          "Algeria",
          "Germany",
          "France",
          "Mexico",
          "Italy"
         ],
         "xaxis": "x",
         "y": [
          2,
          "6",
          9,
          8,
          8,
          10
         ],
         "yaxis": "y"
        },
        {
         "hoverlabel": {
          "namelength": 0
         },
         "hovertemplate": "Security=8.0<br>Country=%{x}<br>Privacy=%{y}",
         "legendgroup": "Security=8.0",
         "marker": {
          "color": "#636efa",
          "symbol": "circle"
         },
         "mode": "markers",
         "name": "Security=8.0",
         "showlegend": false,
         "type": "scatter",
         "x": [
          "Germany",
          "Peru",
          "Brazil",
          "Colombia"
         ],
         "xaxis": "x",
         "y": [
          2,
          5,
          7,
          4
         ],
         "yaxis": "y"
        },
        {
         "hoverlabel": {
          "namelength": 0
         },
         "hovertemplate": "Security=6.0<br>Country=%{x}<br>Privacy=%{y}",
         "legendgroup": "Security=6.0",
         "marker": {
          "color": "#EF553B",
          "symbol": "circle"
         },
         "mode": "markers",
         "name": "Security=6.0",
         "showlegend": false,
         "type": "scatter",
         "x": [
          "Argentina",
          "France",
          "Brazil",
          "Brazil",
          "Mexico"
         ],
         "xaxis": "x",
         "y": [
          10,
          "9",
          10,
          3,
          9
         ],
         "yaxis": "y"
        },
        {
         "hoverlabel": {
          "namelength": 0
         },
         "hovertemplate": "Security=10.0<br>Country=%{x}<br>Privacy=%{y}",
         "legendgroup": "Security=10.0",
         "marker": {
          "color": "#00cc96",
          "symbol": "circle"
         },
         "mode": "markers",
         "name": "Security=10.0",
         "showlegend": false,
         "type": "scatter",
         "x": [
          "Indonesia",
          "Brazil",
          "Germany"
         ],
         "xaxis": "x",
         "y": [
          "7",
          "9",
          8
         ],
         "yaxis": "y"
        }
       ],
       "layout": {
        "height": 600,
        "legend": {
         "tracegroupgap": 0
        },
        "template": {
         "data": {
          "bar": [
           {
            "error_x": {
             "color": "#2a3f5f"
            },
            "error_y": {
             "color": "#2a3f5f"
            },
            "marker": {
             "line": {
              "color": "#E5ECF6",
              "width": 0.5
             }
            },
            "type": "bar"
           }
          ],
          "barpolar": [
           {
            "marker": {
             "line": {
              "color": "#E5ECF6",
              "width": 0.5
             }
            },
            "type": "barpolar"
           }
          ],
          "carpet": [
           {
            "aaxis": {
             "endlinecolor": "#2a3f5f",
             "gridcolor": "white",
             "linecolor": "white",
             "minorgridcolor": "white",
             "startlinecolor": "#2a3f5f"
            },
            "baxis": {
             "endlinecolor": "#2a3f5f",
             "gridcolor": "white",
             "linecolor": "white",
             "minorgridcolor": "white",
             "startlinecolor": "#2a3f5f"
            },
            "type": "carpet"
           }
          ],
          "choropleth": [
           {
            "colorbar": {
             "outlinewidth": 0,
             "ticks": ""
            },
            "type": "choropleth"
           }
          ],
          "contour": [
           {
            "colorbar": {
             "outlinewidth": 0,
             "ticks": ""
            },
            "colorscale": [
             [
              0,
              "#0d0887"
             ],
             [
              0.1111111111111111,
              "#46039f"
             ],
             [
              0.2222222222222222,
              "#7201a8"
             ],
             [
              0.3333333333333333,
              "#9c179e"
             ],
             [
              0.4444444444444444,
              "#bd3786"
             ],
             [
              0.5555555555555556,
              "#d8576b"
             ],
             [
              0.6666666666666666,
              "#ed7953"
             ],
             [
              0.7777777777777778,
              "#fb9f3a"
             ],
             [
              0.8888888888888888,
              "#fdca26"
             ],
             [
              1,
              "#f0f921"
             ]
            ],
            "type": "contour"
           }
          ],
          "contourcarpet": [
           {
            "colorbar": {
             "outlinewidth": 0,
             "ticks": ""
            },
            "type": "contourcarpet"
           }
          ],
          "heatmap": [
           {
            "colorbar": {
             "outlinewidth": 0,
             "ticks": ""
            },
            "colorscale": [
             [
              0,
              "#0d0887"
             ],
             [
              0.1111111111111111,
              "#46039f"
             ],
             [
              0.2222222222222222,
              "#7201a8"
             ],
             [
              0.3333333333333333,
              "#9c179e"
             ],
             [
              0.4444444444444444,
              "#bd3786"
             ],
             [
              0.5555555555555556,
              "#d8576b"
             ],
             [
              0.6666666666666666,
              "#ed7953"
             ],
             [
              0.7777777777777778,
              "#fb9f3a"
             ],
             [
              0.8888888888888888,
              "#fdca26"
             ],
             [
              1,
              "#f0f921"
             ]
            ],
            "type": "heatmap"
           }
          ],
          "heatmapgl": [
           {
            "colorbar": {
             "outlinewidth": 0,
             "ticks": ""
            },
            "colorscale": [
             [
              0,
              "#0d0887"
             ],
             [
              0.1111111111111111,
              "#46039f"
             ],
             [
              0.2222222222222222,
              "#7201a8"
             ],
             [
              0.3333333333333333,
              "#9c179e"
             ],
             [
              0.4444444444444444,
              "#bd3786"
             ],
             [
              0.5555555555555556,
              "#d8576b"
             ],
             [
              0.6666666666666666,
              "#ed7953"
             ],
             [
              0.7777777777777778,
              "#fb9f3a"
             ],
             [
              0.8888888888888888,
              "#fdca26"
             ],
             [
              1,
              "#f0f921"
             ]
            ],
            "type": "heatmapgl"
           }
          ],
          "histogram": [
           {
            "marker": {
             "colorbar": {
              "outlinewidth": 0,
              "ticks": ""
             }
            },
            "type": "histogram"
           }
          ],
          "histogram2d": [
           {
            "colorbar": {
             "outlinewidth": 0,
             "ticks": ""
            },
            "colorscale": [
             [
              0,
              "#0d0887"
             ],
             [
              0.1111111111111111,
              "#46039f"
             ],
             [
              0.2222222222222222,
              "#7201a8"
             ],
             [
              0.3333333333333333,
              "#9c179e"
             ],
             [
              0.4444444444444444,
              "#bd3786"
             ],
             [
              0.5555555555555556,
              "#d8576b"
             ],
             [
              0.6666666666666666,
              "#ed7953"
             ],
             [
              0.7777777777777778,
              "#fb9f3a"
             ],
             [
              0.8888888888888888,
              "#fdca26"
             ],
             [
              1,
              "#f0f921"
             ]
            ],
            "type": "histogram2d"
           }
          ],
          "histogram2dcontour": [
           {
            "colorbar": {
             "outlinewidth": 0,
             "ticks": ""
            },
            "colorscale": [
             [
              0,
              "#0d0887"
             ],
             [
              0.1111111111111111,
              "#46039f"
             ],
             [
              0.2222222222222222,
              "#7201a8"
             ],
             [
              0.3333333333333333,
              "#9c179e"
             ],
             [
              0.4444444444444444,
              "#bd3786"
             ],
             [
              0.5555555555555556,
              "#d8576b"
             ],
             [
              0.6666666666666666,
              "#ed7953"
             ],
             [
              0.7777777777777778,
              "#fb9f3a"
             ],
             [
              0.8888888888888888,
              "#fdca26"
             ],
             [
              1,
              "#f0f921"
             ]
            ],
            "type": "histogram2dcontour"
           }
          ],
          "mesh3d": [
           {
            "colorbar": {
             "outlinewidth": 0,
             "ticks": ""
            },
            "type": "mesh3d"
           }
          ],
          "parcoords": [
           {
            "line": {
             "colorbar": {
              "outlinewidth": 0,
              "ticks": ""
             }
            },
            "type": "parcoords"
           }
          ],
          "scatter": [
           {
            "marker": {
             "colorbar": {
              "outlinewidth": 0,
              "ticks": ""
             }
            },
            "type": "scatter"
           }
          ],
          "scatter3d": [
           {
            "line": {
             "colorbar": {
              "outlinewidth": 0,
              "ticks": ""
             }
            },
            "marker": {
             "colorbar": {
              "outlinewidth": 0,
              "ticks": ""
             }
            },
            "type": "scatter3d"
           }
          ],
          "scattercarpet": [
           {
            "marker": {
             "colorbar": {
              "outlinewidth": 0,
              "ticks": ""
             }
            },
            "type": "scattercarpet"
           }
          ],
          "scattergeo": [
           {
            "marker": {
             "colorbar": {
              "outlinewidth": 0,
              "ticks": ""
             }
            },
            "type": "scattergeo"
           }
          ],
          "scattergl": [
           {
            "marker": {
             "colorbar": {
              "outlinewidth": 0,
              "ticks": ""
             }
            },
            "type": "scattergl"
           }
          ],
          "scattermapbox": [
           {
            "marker": {
             "colorbar": {
              "outlinewidth": 0,
              "ticks": ""
             }
            },
            "type": "scattermapbox"
           }
          ],
          "scatterpolar": [
           {
            "marker": {
             "colorbar": {
              "outlinewidth": 0,
              "ticks": ""
             }
            },
            "type": "scatterpolar"
           }
          ],
          "scatterpolargl": [
           {
            "marker": {
             "colorbar": {
              "outlinewidth": 0,
              "ticks": ""
             }
            },
            "type": "scatterpolargl"
           }
          ],
          "scatterternary": [
           {
            "marker": {
             "colorbar": {
              "outlinewidth": 0,
              "ticks": ""
             }
            },
            "type": "scatterternary"
           }
          ],
          "surface": [
           {
            "colorbar": {
             "outlinewidth": 0,
             "ticks": ""
            },
            "colorscale": [
             [
              0,
              "#0d0887"
             ],
             [
              0.1111111111111111,
              "#46039f"
             ],
             [
              0.2222222222222222,
              "#7201a8"
             ],
             [
              0.3333333333333333,
              "#9c179e"
             ],
             [
              0.4444444444444444,
              "#bd3786"
             ],
             [
              0.5555555555555556,
              "#d8576b"
             ],
             [
              0.6666666666666666,
              "#ed7953"
             ],
             [
              0.7777777777777778,
              "#fb9f3a"
             ],
             [
              0.8888888888888888,
              "#fdca26"
             ],
             [
              1,
              "#f0f921"
             ]
            ],
            "type": "surface"
           }
          ],
          "table": [
           {
            "cells": {
             "fill": {
              "color": "#EBF0F8"
             },
             "line": {
              "color": "white"
             }
            },
            "header": {
             "fill": {
              "color": "#C8D4E3"
             },
             "line": {
              "color": "white"
             }
            },
            "type": "table"
           }
          ]
         },
         "layout": {
          "annotationdefaults": {
           "arrowcolor": "#2a3f5f",
           "arrowhead": 0,
           "arrowwidth": 1
          },
          "colorscale": {
           "diverging": [
            [
             0,
             "#8e0152"
            ],
            [
             0.1,
             "#c51b7d"
            ],
            [
             0.2,
             "#de77ae"
            ],
            [
             0.3,
             "#f1b6da"
            ],
            [
             0.4,
             "#fde0ef"
            ],
            [
             0.5,
             "#f7f7f7"
            ],
            [
             0.6,
             "#e6f5d0"
            ],
            [
             0.7,
             "#b8e186"
            ],
            [
             0.8,
             "#7fbc41"
            ],
            [
             0.9,
             "#4d9221"
            ],
            [
             1,
             "#276419"
            ]
           ],
           "sequential": [
            [
             0,
             "#0d0887"
            ],
            [
             0.1111111111111111,
             "#46039f"
            ],
            [
             0.2222222222222222,
             "#7201a8"
            ],
            [
             0.3333333333333333,
             "#9c179e"
            ],
            [
             0.4444444444444444,
             "#bd3786"
            ],
            [
             0.5555555555555556,
             "#d8576b"
            ],
            [
             0.6666666666666666,
             "#ed7953"
            ],
            [
             0.7777777777777778,
             "#fb9f3a"
            ],
            [
             0.8888888888888888,
             "#fdca26"
            ],
            [
             1,
             "#f0f921"
            ]
           ],
           "sequentialminus": [
            [
             0,
             "#0d0887"
            ],
            [
             0.1111111111111111,
             "#46039f"
            ],
            [
             0.2222222222222222,
             "#7201a8"
            ],
            [
             0.3333333333333333,
             "#9c179e"
            ],
            [
             0.4444444444444444,
             "#bd3786"
            ],
            [
             0.5555555555555556,
             "#d8576b"
            ],
            [
             0.6666666666666666,
             "#ed7953"
            ],
            [
             0.7777777777777778,
             "#fb9f3a"
            ],
            [
             0.8888888888888888,
             "#fdca26"
            ],
            [
             1,
             "#f0f921"
            ]
           ]
          },
          "colorway": [
           "#636efa",
           "#EF553B",
           "#00cc96",
           "#ab63fa",
           "#FFA15A",
           "#19d3f3",
           "#FF6692",
           "#B6E880",
           "#FF97FF",
           "#FECB52"
          ],
          "font": {
           "color": "#2a3f5f"
          },
          "geo": {
           "bgcolor": "white",
           "lakecolor": "white",
           "landcolor": "#E5ECF6",
           "showlakes": true,
           "showland": true,
           "subunitcolor": "white"
          },
          "hoverlabel": {
           "align": "left"
          },
          "hovermode": "closest",
          "mapbox": {
           "style": "light"
          },
          "paper_bgcolor": "white",
          "plot_bgcolor": "#E5ECF6",
          "polar": {
           "angularaxis": {
            "gridcolor": "white",
            "linecolor": "white",
            "ticks": ""
           },
           "bgcolor": "#E5ECF6",
           "radialaxis": {
            "gridcolor": "white",
            "linecolor": "white",
            "ticks": ""
           }
          },
          "scene": {
           "xaxis": {
            "backgroundcolor": "#E5ECF6",
            "gridcolor": "white",
            "gridwidth": 2,
            "linecolor": "white",
            "showbackground": true,
            "ticks": "",
            "zerolinecolor": "white"
           },
           "yaxis": {
            "backgroundcolor": "#E5ECF6",
            "gridcolor": "white",
            "gridwidth": 2,
            "linecolor": "white",
            "showbackground": true,
            "ticks": "",
            "zerolinecolor": "white"
           },
           "zaxis": {
            "backgroundcolor": "#E5ECF6",
            "gridcolor": "white",
            "gridwidth": 2,
            "linecolor": "white",
            "showbackground": true,
            "ticks": "",
            "zerolinecolor": "white"
           }
          },
          "shapedefaults": {
           "line": {
            "color": "#2a3f5f"
           }
          },
          "ternary": {
           "aaxis": {
            "gridcolor": "white",
            "linecolor": "white",
            "ticks": ""
           },
           "baxis": {
            "gridcolor": "white",
            "linecolor": "white",
            "ticks": ""
           },
           "bgcolor": "#E5ECF6",
           "caxis": {
            "gridcolor": "white",
            "linecolor": "white",
            "ticks": ""
           }
          },
          "title": {
           "x": 0.05
          },
          "xaxis": {
           "automargin": true,
           "gridcolor": "white",
           "linecolor": "white",
           "ticks": "",
           "zerolinecolor": "white",
           "zerolinewidth": 2
          },
          "yaxis": {
           "automargin": true,
           "gridcolor": "white",
           "linecolor": "white",
           "ticks": "",
           "zerolinecolor": "white",
           "zerolinewidth": 2
          }
         }
        },
        "title": {
         "text": "Countries and their privacy and security concerns"
        },
        "xaxis": {
         "anchor": "y",
         "domain": [
          0,
          0.98
         ],
         "title": {
          "text": "Country"
         }
        },
        "yaxis": {
         "anchor": "x",
         "domain": [
          0,
          1
         ],
         "title": {
          "text": "Privacy"
         }
        }
       }
      },
      "text/html": [
       "<div>\n",
       "        \n",
       "        \n",
       "            <div id=\"d80c8ed5-313d-47e4-9d2e-133e9c93f9ca\" class=\"plotly-graph-div\" style=\"height:600px; width:100%;\"></div>\n",
       "            <script type=\"text/javascript\">\n",
       "                require([\"plotly\"], function(Plotly) {\n",
       "                    window.PLOTLYENV=window.PLOTLYENV || {};\n",
       "                    \n",
       "                if (document.getElementById(\"d80c8ed5-313d-47e4-9d2e-133e9c93f9ca\")) {\n",
       "                    Plotly.newPlot(\n",
       "                        'd80c8ed5-313d-47e4-9d2e-133e9c93f9ca',\n",
       "                        [{\"hoverlabel\": {\"namelength\": 0}, \"hovertemplate\": \"Security=6.0<br>Country=%{x}<br>Privacy=%{y}\", \"legendgroup\": \"Security=6.0\", \"marker\": {\"color\": \"#636efa\", \"symbol\": \"circle\"}, \"mode\": \"markers\", \"name\": \"Security=6.0\", \"showlegend\": true, \"type\": \"scatter\", \"x\": [\"Germany\"], \"xaxis\": \"x\", \"y\": [7.0], \"yaxis\": \"y\"}, {\"hoverlabel\": {\"namelength\": 0}, \"hovertemplate\": \"Security=10.0<br>Country=%{x}<br>Privacy=%{y}\", \"legendgroup\": \"Security=10.0\", \"marker\": {\"color\": \"#EF553B\", \"symbol\": \"circle\"}, \"mode\": \"markers\", \"name\": \"Security=10.0\", \"showlegend\": true, \"type\": \"scatter\", \"x\": [\"Mexico\"], \"xaxis\": \"x\", \"y\": [5.0], \"yaxis\": \"y\"}, {\"hoverlabel\": {\"namelength\": 0}, \"hovertemplate\": \"Security=4.0<br>Country=%{x}<br>Privacy=%{y}\", \"legendgroup\": \"Security=4.0\", \"marker\": {\"color\": \"#00cc96\", \"symbol\": \"circle\"}, \"mode\": \"markers\", \"name\": \"Security=4.0\", \"showlegend\": true, \"type\": \"scatter\", \"x\": [\"Italy\", \"France\", \"Switzerland\", \"Germany\", \"Nepal\", \"Brazil\", \"Switzerland\", \"Colombia\", \"Philippines\", \"Italy\", \"Germany\", \"Mexico\", \"Mexico\", \"Sierra Leone\"], \"xaxis\": \"x\", \"y\": [10.0, 3.0, 5.0, 5.0, 10.0, 10.0, 2.0, 5.0, 5.0, 5.0, 10.0, 5.0, 5.0, 5.0], \"yaxis\": \"y\"}, {\"hoverlabel\": {\"namelength\": 0}, \"hovertemplate\": \"Security=5.0<br>Country=%{x}<br>Privacy=%{y}\", \"legendgroup\": \"Security=5.0\", \"marker\": {\"color\": \"#ab63fa\", \"symbol\": \"circle\"}, \"mode\": \"markers\", \"name\": \"Security=5.0\", \"showlegend\": true, \"type\": \"scatter\", \"x\": [\"Germany\", \"Brazil\", \"Brazil\", \"United States\"], \"xaxis\": \"x\", \"y\": [4.0, 7.0, 10.0, 6.0], \"yaxis\": \"y\"}, {\"hoverlabel\": {\"namelength\": 0}, \"hovertemplate\": \"Security=3.0<br>Country=%{x}<br>Privacy=%{y}\", \"legendgroup\": \"Security=3.0\", \"marker\": {\"color\": \"#FFA15A\", \"symbol\": \"circle\"}, \"mode\": \"markers\", \"name\": \"Security=3.0\", \"showlegend\": true, \"type\": \"scatter\", \"x\": [\"Switzerland\", \"United States\", \"Argentina\", \"Indonesia\"], \"xaxis\": \"x\", \"y\": [5.0, 4.0, 6.0, 8.0], \"yaxis\": \"y\"}, {\"hoverlabel\": {\"namelength\": 0}, \"hovertemplate\": \"Security=1.0<br>Country=%{x}<br>Privacy=%{y}\", \"legendgroup\": \"Security=1.0\", \"marker\": {\"color\": \"#19d3f3\", \"symbol\": \"circle\"}, \"mode\": \"markers\", \"name\": \"Security=1.0\", \"showlegend\": true, \"type\": \"scatter\", \"x\": [\"Mexico\", \"France\", \"India\", \"Australia\", \"France\"], \"xaxis\": \"x\", \"y\": [4.0, 4.0, 2.0, 5.0, 10.0], \"yaxis\": \"y\"}, {\"hoverlabel\": {\"namelength\": 0}, \"hovertemplate\": \"Security=2.0<br>Country=%{x}<br>Privacy=%{y}\", \"legendgroup\": \"Security=2.0\", \"marker\": {\"color\": \"#FF6692\", \"symbol\": \"circle\"}, \"mode\": \"markers\", \"name\": \"Security=2.0\", \"showlegend\": true, \"type\": \"scatter\", \"x\": [\"France\", \"United Kingdom\", \"Germany\", \"India\", \"India\"], \"xaxis\": \"x\", \"y\": [7.0, 5.0, 1.0, 4.0, 6.0], \"yaxis\": \"y\"}, {\"hoverlabel\": {\"namelength\": 0}, \"hovertemplate\": \"Security=9.0<br>Country=%{x}<br>Privacy=%{y}\", \"legendgroup\": \"Security=9.0\", \"marker\": {\"color\": \"#B6E880\", \"symbol\": \"circle\"}, \"mode\": \"markers\", \"name\": \"Security=9.0\", \"showlegend\": true, \"type\": \"scatter\", \"x\": [\"Germany\", \"Germany\", \"France\", \"India\"], \"xaxis\": \"x\", \"y\": [10.0, 8.0, 8.0, 8.0], \"yaxis\": \"y\"}, {\"hoverlabel\": {\"namelength\": 0}, \"hovertemplate\": \"Security=8.0<br>Country=%{x}<br>Privacy=%{y}\", \"legendgroup\": \"Security=8.0\", \"marker\": {\"color\": \"#FF97FF\", \"symbol\": \"circle\"}, \"mode\": \"markers\", \"name\": \"Security=8.0\", \"showlegend\": true, \"type\": \"scatter\", \"x\": [\"Mexico\"], \"xaxis\": \"x\", \"y\": [9.0], \"yaxis\": \"y\"}, {\"hoverlabel\": {\"namelength\": 0}, \"hovertemplate\": \"Security=7.0<br>Country=%{x}<br>Privacy=%{y}\", \"legendgroup\": \"Security=7.0\", \"marker\": {\"color\": \"#FECB52\", \"symbol\": \"circle\"}, \"mode\": \"markers\", \"name\": \"Security=7.0\", \"showlegend\": true, \"type\": \"scatter\", \"x\": [\"Germany\", \"Algeria\", \"Germany\", \"France\", \"Mexico\", \"Italy\"], \"xaxis\": \"x\", \"y\": [2.0, \"6\", 9.0, 8.0, 8.0, 10.0], \"yaxis\": \"y\"}, {\"hoverlabel\": {\"namelength\": 0}, \"hovertemplate\": \"Security=8.0<br>Country=%{x}<br>Privacy=%{y}\", \"legendgroup\": \"Security=8.0\", \"marker\": {\"color\": \"#636efa\", \"symbol\": \"circle\"}, \"mode\": \"markers\", \"name\": \"Security=8.0\", \"showlegend\": false, \"type\": \"scatter\", \"x\": [\"Germany\", \"Peru\", \"Brazil\", \"Colombia\"], \"xaxis\": \"x\", \"y\": [2.0, 5.0, 7.0, 4.0], \"yaxis\": \"y\"}, {\"hoverlabel\": {\"namelength\": 0}, \"hovertemplate\": \"Security=6.0<br>Country=%{x}<br>Privacy=%{y}\", \"legendgroup\": \"Security=6.0\", \"marker\": {\"color\": \"#EF553B\", \"symbol\": \"circle\"}, \"mode\": \"markers\", \"name\": \"Security=6.0\", \"showlegend\": false, \"type\": \"scatter\", \"x\": [\"Argentina\", \"France\", \"Brazil\", \"Brazil\", \"Mexico\"], \"xaxis\": \"x\", \"y\": [10.0, \"9\", 10.0, 3.0, 9.0], \"yaxis\": \"y\"}, {\"hoverlabel\": {\"namelength\": 0}, \"hovertemplate\": \"Security=10.0<br>Country=%{x}<br>Privacy=%{y}\", \"legendgroup\": \"Security=10.0\", \"marker\": {\"color\": \"#00cc96\", \"symbol\": \"circle\"}, \"mode\": \"markers\", \"name\": \"Security=10.0\", \"showlegend\": false, \"type\": \"scatter\", \"x\": [\"Indonesia\", \"Brazil\", \"Germany\"], \"xaxis\": \"x\", \"y\": [\"7\", \"9\", 8.0], \"yaxis\": \"y\"}],\n",
       "                        {\"height\": 600, \"legend\": {\"tracegroupgap\": 0}, \"template\": {\"data\": {\"bar\": [{\"error_x\": {\"color\": \"#2a3f5f\"}, \"error_y\": {\"color\": \"#2a3f5f\"}, \"marker\": {\"line\": {\"color\": \"#E5ECF6\", \"width\": 0.5}}, \"type\": \"bar\"}], \"barpolar\": [{\"marker\": {\"line\": {\"color\": \"#E5ECF6\", \"width\": 0.5}}, \"type\": \"barpolar\"}], \"carpet\": [{\"aaxis\": {\"endlinecolor\": \"#2a3f5f\", \"gridcolor\": \"white\", \"linecolor\": \"white\", \"minorgridcolor\": \"white\", \"startlinecolor\": \"#2a3f5f\"}, \"baxis\": {\"endlinecolor\": \"#2a3f5f\", \"gridcolor\": \"white\", \"linecolor\": \"white\", \"minorgridcolor\": \"white\", \"startlinecolor\": \"#2a3f5f\"}, \"type\": \"carpet\"}], \"choropleth\": [{\"colorbar\": {\"outlinewidth\": 0, \"ticks\": \"\"}, \"type\": \"choropleth\"}], \"contour\": [{\"colorbar\": {\"outlinewidth\": 0, \"ticks\": \"\"}, \"colorscale\": [[0.0, \"#0d0887\"], [0.1111111111111111, \"#46039f\"], [0.2222222222222222, \"#7201a8\"], [0.3333333333333333, \"#9c179e\"], [0.4444444444444444, \"#bd3786\"], [0.5555555555555556, \"#d8576b\"], [0.6666666666666666, \"#ed7953\"], [0.7777777777777778, \"#fb9f3a\"], [0.8888888888888888, \"#fdca26\"], [1.0, \"#f0f921\"]], \"type\": \"contour\"}], \"contourcarpet\": [{\"colorbar\": {\"outlinewidth\": 0, \"ticks\": \"\"}, \"type\": \"contourcarpet\"}], \"heatmap\": [{\"colorbar\": {\"outlinewidth\": 0, \"ticks\": \"\"}, \"colorscale\": [[0.0, \"#0d0887\"], [0.1111111111111111, \"#46039f\"], [0.2222222222222222, \"#7201a8\"], [0.3333333333333333, \"#9c179e\"], [0.4444444444444444, \"#bd3786\"], [0.5555555555555556, \"#d8576b\"], [0.6666666666666666, \"#ed7953\"], [0.7777777777777778, \"#fb9f3a\"], [0.8888888888888888, \"#fdca26\"], [1.0, \"#f0f921\"]], \"type\": \"heatmap\"}], \"heatmapgl\": [{\"colorbar\": {\"outlinewidth\": 0, \"ticks\": \"\"}, \"colorscale\": [[0.0, \"#0d0887\"], [0.1111111111111111, \"#46039f\"], [0.2222222222222222, \"#7201a8\"], [0.3333333333333333, \"#9c179e\"], [0.4444444444444444, \"#bd3786\"], [0.5555555555555556, \"#d8576b\"], [0.6666666666666666, \"#ed7953\"], [0.7777777777777778, \"#fb9f3a\"], [0.8888888888888888, \"#fdca26\"], [1.0, \"#f0f921\"]], \"type\": \"heatmapgl\"}], \"histogram\": [{\"marker\": {\"colorbar\": {\"outlinewidth\": 0, \"ticks\": \"\"}}, \"type\": \"histogram\"}], \"histogram2d\": [{\"colorbar\": {\"outlinewidth\": 0, \"ticks\": \"\"}, \"colorscale\": [[0.0, \"#0d0887\"], [0.1111111111111111, \"#46039f\"], [0.2222222222222222, \"#7201a8\"], [0.3333333333333333, \"#9c179e\"], [0.4444444444444444, \"#bd3786\"], [0.5555555555555556, \"#d8576b\"], [0.6666666666666666, \"#ed7953\"], [0.7777777777777778, \"#fb9f3a\"], [0.8888888888888888, \"#fdca26\"], [1.0, \"#f0f921\"]], \"type\": \"histogram2d\"}], \"histogram2dcontour\": [{\"colorbar\": {\"outlinewidth\": 0, \"ticks\": \"\"}, \"colorscale\": [[0.0, \"#0d0887\"], [0.1111111111111111, \"#46039f\"], [0.2222222222222222, \"#7201a8\"], [0.3333333333333333, \"#9c179e\"], [0.4444444444444444, \"#bd3786\"], [0.5555555555555556, \"#d8576b\"], [0.6666666666666666, \"#ed7953\"], [0.7777777777777778, \"#fb9f3a\"], [0.8888888888888888, \"#fdca26\"], [1.0, \"#f0f921\"]], \"type\": \"histogram2dcontour\"}], \"mesh3d\": [{\"colorbar\": {\"outlinewidth\": 0, \"ticks\": \"\"}, \"type\": \"mesh3d\"}], \"parcoords\": [{\"line\": {\"colorbar\": {\"outlinewidth\": 0, \"ticks\": \"\"}}, \"type\": \"parcoords\"}], \"scatter\": [{\"marker\": {\"colorbar\": {\"outlinewidth\": 0, \"ticks\": \"\"}}, \"type\": \"scatter\"}], \"scatter3d\": [{\"line\": {\"colorbar\": {\"outlinewidth\": 0, \"ticks\": \"\"}}, \"marker\": {\"colorbar\": {\"outlinewidth\": 0, \"ticks\": \"\"}}, \"type\": \"scatter3d\"}], \"scattercarpet\": [{\"marker\": {\"colorbar\": {\"outlinewidth\": 0, \"ticks\": \"\"}}, \"type\": \"scattercarpet\"}], \"scattergeo\": [{\"marker\": {\"colorbar\": {\"outlinewidth\": 0, \"ticks\": \"\"}}, \"type\": \"scattergeo\"}], \"scattergl\": [{\"marker\": {\"colorbar\": {\"outlinewidth\": 0, \"ticks\": \"\"}}, \"type\": \"scattergl\"}], \"scattermapbox\": [{\"marker\": {\"colorbar\": {\"outlinewidth\": 0, \"ticks\": \"\"}}, \"type\": \"scattermapbox\"}], \"scatterpolar\": [{\"marker\": {\"colorbar\": {\"outlinewidth\": 0, \"ticks\": \"\"}}, \"type\": \"scatterpolar\"}], \"scatterpolargl\": [{\"marker\": {\"colorbar\": {\"outlinewidth\": 0, \"ticks\": \"\"}}, \"type\": \"scatterpolargl\"}], \"scatterternary\": [{\"marker\": {\"colorbar\": {\"outlinewidth\": 0, \"ticks\": \"\"}}, \"type\": \"scatterternary\"}], \"surface\": [{\"colorbar\": {\"outlinewidth\": 0, \"ticks\": \"\"}, \"colorscale\": [[0.0, \"#0d0887\"], [0.1111111111111111, \"#46039f\"], [0.2222222222222222, \"#7201a8\"], [0.3333333333333333, \"#9c179e\"], [0.4444444444444444, \"#bd3786\"], [0.5555555555555556, \"#d8576b\"], [0.6666666666666666, \"#ed7953\"], [0.7777777777777778, \"#fb9f3a\"], [0.8888888888888888, \"#fdca26\"], [1.0, \"#f0f921\"]], \"type\": \"surface\"}], \"table\": [{\"cells\": {\"fill\": {\"color\": \"#EBF0F8\"}, \"line\": {\"color\": \"white\"}}, \"header\": {\"fill\": {\"color\": \"#C8D4E3\"}, \"line\": {\"color\": \"white\"}}, \"type\": \"table\"}]}, \"layout\": {\"annotationdefaults\": {\"arrowcolor\": \"#2a3f5f\", \"arrowhead\": 0, \"arrowwidth\": 1}, \"colorscale\": {\"diverging\": [[0, \"#8e0152\"], [0.1, \"#c51b7d\"], [0.2, \"#de77ae\"], [0.3, \"#f1b6da\"], [0.4, \"#fde0ef\"], [0.5, \"#f7f7f7\"], [0.6, \"#e6f5d0\"], [0.7, \"#b8e186\"], [0.8, \"#7fbc41\"], [0.9, \"#4d9221\"], [1, \"#276419\"]], \"sequential\": [[0.0, \"#0d0887\"], [0.1111111111111111, \"#46039f\"], [0.2222222222222222, \"#7201a8\"], [0.3333333333333333, \"#9c179e\"], [0.4444444444444444, \"#bd3786\"], [0.5555555555555556, \"#d8576b\"], [0.6666666666666666, \"#ed7953\"], [0.7777777777777778, \"#fb9f3a\"], [0.8888888888888888, \"#fdca26\"], [1.0, \"#f0f921\"]], \"sequentialminus\": [[0.0, \"#0d0887\"], [0.1111111111111111, \"#46039f\"], [0.2222222222222222, \"#7201a8\"], [0.3333333333333333, \"#9c179e\"], [0.4444444444444444, \"#bd3786\"], [0.5555555555555556, \"#d8576b\"], [0.6666666666666666, \"#ed7953\"], [0.7777777777777778, \"#fb9f3a\"], [0.8888888888888888, \"#fdca26\"], [1.0, \"#f0f921\"]]}, \"colorway\": [\"#636efa\", \"#EF553B\", \"#00cc96\", \"#ab63fa\", \"#FFA15A\", \"#19d3f3\", \"#FF6692\", \"#B6E880\", \"#FF97FF\", \"#FECB52\"], \"font\": {\"color\": \"#2a3f5f\"}, \"geo\": {\"bgcolor\": \"white\", \"lakecolor\": \"white\", \"landcolor\": \"#E5ECF6\", \"showlakes\": true, \"showland\": true, \"subunitcolor\": \"white\"}, \"hoverlabel\": {\"align\": \"left\"}, \"hovermode\": \"closest\", \"mapbox\": {\"style\": \"light\"}, \"paper_bgcolor\": \"white\", \"plot_bgcolor\": \"#E5ECF6\", \"polar\": {\"angularaxis\": {\"gridcolor\": \"white\", \"linecolor\": \"white\", \"ticks\": \"\"}, \"bgcolor\": \"#E5ECF6\", \"radialaxis\": {\"gridcolor\": \"white\", \"linecolor\": \"white\", \"ticks\": \"\"}}, \"scene\": {\"xaxis\": {\"backgroundcolor\": \"#E5ECF6\", \"gridcolor\": \"white\", \"gridwidth\": 2, \"linecolor\": \"white\", \"showbackground\": true, \"ticks\": \"\", \"zerolinecolor\": \"white\"}, \"yaxis\": {\"backgroundcolor\": \"#E5ECF6\", \"gridcolor\": \"white\", \"gridwidth\": 2, \"linecolor\": \"white\", \"showbackground\": true, \"ticks\": \"\", \"zerolinecolor\": \"white\"}, \"zaxis\": {\"backgroundcolor\": \"#E5ECF6\", \"gridcolor\": \"white\", \"gridwidth\": 2, \"linecolor\": \"white\", \"showbackground\": true, \"ticks\": \"\", \"zerolinecolor\": \"white\"}}, \"shapedefaults\": {\"line\": {\"color\": \"#2a3f5f\"}}, \"ternary\": {\"aaxis\": {\"gridcolor\": \"white\", \"linecolor\": \"white\", \"ticks\": \"\"}, \"baxis\": {\"gridcolor\": \"white\", \"linecolor\": \"white\", \"ticks\": \"\"}, \"bgcolor\": \"#E5ECF6\", \"caxis\": {\"gridcolor\": \"white\", \"linecolor\": \"white\", \"ticks\": \"\"}}, \"title\": {\"x\": 0.05}, \"xaxis\": {\"automargin\": true, \"gridcolor\": \"white\", \"linecolor\": \"white\", \"ticks\": \"\", \"zerolinecolor\": \"white\", \"zerolinewidth\": 2}, \"yaxis\": {\"automargin\": true, \"gridcolor\": \"white\", \"linecolor\": \"white\", \"ticks\": \"\", \"zerolinecolor\": \"white\", \"zerolinewidth\": 2}}}, \"title\": {\"text\": \"Countries and their privacy and security concerns\"}, \"xaxis\": {\"anchor\": \"y\", \"domain\": [0.0, 0.98], \"title\": {\"text\": \"Country\"}}, \"yaxis\": {\"anchor\": \"x\", \"domain\": [0.0, 1.0], \"title\": {\"text\": \"Privacy\"}}},\n",
       "                        {\"responsive\": true}\n",
       "                    ).then(function(){\n",
       "                            \n",
       "var gd = document.getElementById('d80c8ed5-313d-47e4-9d2e-133e9c93f9ca');\n",
       "var x = new MutationObserver(function (mutations, observer) {{\n",
       "        var display = window.getComputedStyle(gd).display;\n",
       "        if (!display || display === 'none') {{\n",
       "            console.log([gd, 'removed!']);\n",
       "            Plotly.purge(gd);\n",
       "            observer.disconnect();\n",
       "        }}\n",
       "}});\n",
       "\n",
       "// Listen for the removal of the full notebook cells\n",
       "var notebookContainer = gd.closest('#notebook-container');\n",
       "if (notebookContainer) {{\n",
       "    x.observe(notebookContainer, {childList: true});\n",
       "}}\n",
       "\n",
       "// Listen for the clearing of the current output cell\n",
       "var outputEl = gd.closest('.output');\n",
       "if (outputEl) {{\n",
       "    x.observe(outputEl, {childList: true});\n",
       "}}\n",
       "\n",
       "                        })\n",
       "                };\n",
       "                });\n",
       "            </script>\n",
       "        </div>"
      ]
     },
     "metadata": {},
     "output_type": "display_data"
    }
   ],
   "source": [
    "iris= px.data.iris()\n",
    "fig=px.scatter(dfNew1,x=\"Country\",y=\"Privacy\",color=\"Security\",title=\"Countries and their privacy and security concerns\")\n",
    "fig.show()"
   ]
  },
  {
   "cell_type": "code",
   "execution_count": null,
   "metadata": {},
   "outputs": [],
   "source": []
  },
  {
   "cell_type": "code",
   "execution_count": null,
   "metadata": {},
   "outputs": [],
   "source": []
  },
  {
   "cell_type": "code",
   "execution_count": null,
   "metadata": {},
   "outputs": [],
   "source": []
  },
  {
   "cell_type": "code",
   "execution_count": null,
   "metadata": {},
   "outputs": [],
   "source": []
  }
 ],
 "metadata": {
  "kernelspec": {
   "display_name": "Python 3",
   "language": "python",
   "name": "python3"
  },
  "language_info": {
   "codemirror_mode": {
    "name": "ipython",
    "version": 3
   },
   "file_extension": ".py",
   "mimetype": "text/x-python",
   "name": "python",
   "nbconvert_exporter": "python",
   "pygments_lexer": "ipython3",
   "version": "3.7.3"
  }
 },
 "nbformat": 4,
 "nbformat_minor": 2
}
